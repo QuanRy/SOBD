{
 "cells": [
  {
   "cell_type": "markdown",
   "metadata": {},
   "source": [
    "### ЧАСТЬ 2"
   ]
  },
  {
   "cell_type": "code",
   "execution_count": 1,
   "metadata": {},
   "outputs": [],
   "source": [
    "import os\n",
    "from pyspark.sql import SparkSession, DataFrame\n",
    "from pyspark import SparkConf\n",
    "from pyspark.sql.functions import (\n",
    "    col, lit, sum, mean, when,\n",
    "    explode, count, desc, floor,\n",
    "    corr, array_contains, lit, first\n",
    ")\n",
    "import pandas as pd\n",
    "import seaborn as sns\n",
    "import matplotlib.pyplot as plt"
   ]
  },
  {
   "cell_type": "code",
   "execution_count": 2,
   "metadata": {},
   "outputs": [],
   "source": [
    "def create_spark_configuration() -> SparkConf:\n",
    "    \"\"\"\n",
    "    Создает и конфигурирует экземпляр SparkConf для приложения Spark.\n",
    "\n",
    "    Returns:\n",
    "        SparkConf: Настроенный экземпляр SparkConf.\n",
    "    \"\"\"\n",
    "    # Получаем имя пользователя\n",
    "    user_name = os.getenv(\"USER\")\n",
    "    \n",
    "    conf = SparkConf()\n",
    "    conf.setAppName(\"lab 1 Test\")\n",
    "    conf.setMaster(\"yarn\")\n",
    "    conf.set(\"spark.submit.deployMode\", \"client\")\n",
    "    conf.set(\"spark.executor.memory\", \"12g\")\n",
    "    conf.set(\"spark.executor.cores\", \"8\")\n",
    "    conf.set(\"spark.executor.instances\", \"2\")\n",
    "    conf.set(\"spark.driver.memory\", \"4g\")\n",
    "    conf.set(\"spark.driver.cores\", \"2\")\n",
    "    conf.set(\"spark.jars.packages\", \"org.apache.iceberg:iceberg-spark-runtime-3.5_2.12:1.6.0\")\n",
    "    conf.set(\"spark.sql.extensions\", \"org.apache.iceberg.spark.extensions.IcebergSparkSessionExtensions\")\n",
    "    conf.set(\"spark.sql.catalog.spark_catalog\", \"org.apache.iceberg.spark.SparkCatalog\")\n",
    "    conf.set(\"spark.sql.catalog.spark_catalog.type\", \"hadoop\")\n",
    "    conf.set(\"spark.sql.catalog.spark_catalog.warehouse\", f\"hdfs:///user/{user_name}/warehouse\")\n",
    "    conf.set(\"spark.sql.catalog.spark_catalog.io-impl\", \"org.apache.iceberg.hadoop.HadoopFileIO\")\n",
    "\n",
    "    return conf"
   ]
  },
  {
   "cell_type": "code",
   "execution_count": 3,
   "metadata": {},
   "outputs": [],
   "source": [
    "conf = create_spark_configuration()"
   ]
  },
  {
   "cell_type": "code",
   "execution_count": 4,
   "metadata": {},
   "outputs": [
    {
     "name": "stdout",
     "output_type": "stream",
     "text": [
      ":: loading settings :: url = jar:file:/opt/spark-3.5.2-bin-hadoop3/jars/ivy-2.5.1.jar!/org/apache/ivy/core/settings/ivysettings.xml\n"
     ]
    },
    {
     "name": "stderr",
     "output_type": "stream",
     "text": [
      "Ivy Default Cache set to: /home/user0/.ivy2/cache\n",
      "The jars for the packages stored in: /home/user0/.ivy2/jars\n",
      "org.apache.iceberg#iceberg-spark-runtime-3.5_2.12 added as a dependency\n",
      ":: resolving dependencies :: org.apache.spark#spark-submit-parent-c5456939-43e6-4a95-b53d-da38f7a9b348;1.0\n",
      "\tconfs: [default]\n",
      "\tfound org.apache.iceberg#iceberg-spark-runtime-3.5_2.12;1.6.0 in central\n",
      ":: resolution report :: resolve 587ms :: artifacts dl 19ms\n",
      "\t:: modules in use:\n",
      "\torg.apache.iceberg#iceberg-spark-runtime-3.5_2.12;1.6.0 from central in [default]\n",
      "\t---------------------------------------------------------------------\n",
      "\t|                  |            modules            ||   artifacts   |\n",
      "\t|       conf       | number| search|dwnlded|evicted|| number|dwnlded|\n",
      "\t---------------------------------------------------------------------\n",
      "\t|      default     |   1   |   0   |   0   |   0   ||   1   |   0   |\n",
      "\t---------------------------------------------------------------------\n",
      ":: retrieving :: org.apache.spark#spark-submit-parent-c5456939-43e6-4a95-b53d-da38f7a9b348\n",
      "\tconfs: [default]\n",
      "\t0 artifacts copied, 1 already retrieved (0kB/24ms)\n",
      "Setting default log level to \"WARN\".\n",
      "To adjust logging level use sc.setLogLevel(newLevel). For SparkR, use setLogLevel(newLevel).\n",
      "25/01/14 01:29:50 WARN Utils: Service 'SparkUI' could not bind on port 4040. Attempting port 4041.\n",
      "25/01/14 01:29:51 WARN Utils: Service 'SparkUI' could not bind on port 4041. Attempting port 4042.\n",
      "25/01/14 01:29:56 WARN Client: Neither spark.yarn.jars nor spark.yarn.archive is set, falling back to uploading libraries under SPARK_HOME.\n",
      "25/01/14 01:30:15 WARN Client: Same path resource file:///home/user0/.ivy2/jars/org.apache.iceberg_iceberg-spark-runtime-3.5_2.12-1.6.0.jar added multiple times to distributed cache.\n"
     ]
    },
    {
     "data": {
      "text/html": [
       "\n",
       "            <div>\n",
       "                <p><b>SparkSession - in-memory</b></p>\n",
       "                \n",
       "        <div>\n",
       "            <p><b>SparkContext</b></p>\n",
       "\n",
       "            <p><a href=\"http://node32.cluster:4042\">Spark UI</a></p>\n",
       "\n",
       "            <dl>\n",
       "              <dt>Version</dt>\n",
       "                <dd><code>v3.5.2</code></dd>\n",
       "              <dt>Master</dt>\n",
       "                <dd><code>yarn</code></dd>\n",
       "              <dt>AppName</dt>\n",
       "                <dd><code>lab 1 Test</code></dd>\n",
       "            </dl>\n",
       "        </div>\n",
       "        \n",
       "            </div>\n",
       "        "
      ],
      "text/plain": [
       "<pyspark.sql.session.SparkSession at 0x7f3a7d21b190>"
      ]
     },
     "execution_count": 4,
     "metadata": {},
     "output_type": "execute_result"
    }
   ],
   "source": [
    "spark = SparkSession.builder.config(conf=conf).getOrCreate()\n",
    "spark"
   ]
  },
  {
   "cell_type": "markdown",
   "metadata": {},
   "source": [
    "Подключимся к созданной БД и табличке"
   ]
  },
  {
   "cell_type": "code",
   "execution_count": 5,
   "metadata": {},
   "outputs": [],
   "source": [
    "database_name = \"samorokov_db\""
   ]
  },
  {
   "cell_type": "code",
   "execution_count": 6,
   "metadata": {},
   "outputs": [],
   "source": [
    "# Установим БД, как текущую\n",
    "spark.catalog.setCurrentDatabase(database_name)"
   ]
  },
  {
   "cell_type": "code",
   "execution_count": 31,
   "metadata": {},
   "outputs": [],
   "source": [
    "# Прочитаем таблчку из БД\n",
    "df = spark.table(\"sobd_table_lab1\")"
   ]
  },
  {
   "cell_type": "code",
   "execution_count": 9,
   "metadata": {},
   "outputs": [
    {
     "name": "stderr",
     "output_type": "stream",
     "text": [
      "                                                                                \r"
     ]
    },
    {
     "name": "stdout",
     "output_type": "stream",
     "text": [
      "+---+-------+----------+-------+------+\n",
      "|Ply|GamePly|HasCastled|   Eval|Result|\n",
      "+---+-------+----------+-------+------+\n",
      "|110|    157|         2|  305.0|   1.0|\n",
      "| 29|    238|         3|  108.0|   0.5|\n",
      "| 40|    231|         3|   46.0|   1.0|\n",
      "| 44|    111|         3|  236.0|   1.0|\n",
      "| 38|    165|         0|   37.0|   0.5|\n",
      "| 54|    119|         3|  223.0|   0.5|\n",
      "| 93|    129|         3|  450.0|   1.0|\n",
      "| 43|    141|         3|  112.0|   1.0|\n",
      "|100|    114|         3|-1894.0|   0.0|\n",
      "| 80|    119|         2|  198.0|   0.5|\n",
      "| 28|     46|         3|   -8.0|   0.0|\n",
      "| 34|    197|         3|   -3.0|   1.0|\n",
      "| 32|    110|         3|  -79.0|   0.0|\n",
      "| 14|    103|         1|   59.0|   0.5|\n",
      "| 24|     93|         3|  108.0|   1.0|\n",
      "| 45|    112|         3|   63.0|   0.5|\n",
      "| 38|     69|         3|   30.0|   1.0|\n",
      "| 78|     92|         3|  215.0|   1.0|\n",
      "| 73|    161|         3|  -23.0|   0.0|\n",
      "| 64|     75|         3|  396.0|   1.0|\n",
      "+---+-------+----------+-------+------+\n",
      "only showing top 20 rows\n",
      "\n"
     ]
    }
   ],
   "source": [
    "# Выведем табличку на экран\n",
    "df.show()"
   ]
  },
  {
   "cell_type": "code",
   "execution_count": 10,
   "metadata": {},
   "outputs": [
    {
     "name": "stdout",
     "output_type": "stream",
     "text": [
      "root\n",
      " |-- Ply: integer (nullable = true)\n",
      " |-- GamePly: integer (nullable = true)\n",
      " |-- HasCastled: integer (nullable = true)\n",
      " |-- Eval: float (nullable = true)\n",
      " |-- Result: float (nullable = true)\n",
      "\n"
     ]
    }
   ],
   "source": [
    "# Посмотрим на схему данных \n",
    "df.printSchema()"
   ]
  },
  {
   "cell_type": "code",
   "execution_count": 32,
   "metadata": {},
   "outputs": [
    {
     "name": "stdout",
     "output_type": "stream",
     "text": [
      "Количество строчек равно: 109154250\n"
     ]
    }
   ],
   "source": [
    "# Посмотрим кол-во строчек \n",
    "df.count()\n",
    "\n",
    "before_delete_dub = df.count()\n",
    "print(f\"Количество строчек равно: {before_delete_dub}\")"
   ]
  },
  {
   "cell_type": "code",
   "execution_count": 33,
   "metadata": {},
   "outputs": [
    {
     "name": "stderr",
     "output_type": "stream",
     "text": [
      "[Stage 106:===================================================>   (27 + 2) / 29]\r"
     ]
    },
    {
     "name": "stdout",
     "output_type": "stream",
     "text": [
      " Количество удаленных дубликатов равно: 55509324\n",
      "\n",
      " Количество строк после удаления равно: 53644926\n"
     ]
    },
    {
     "name": "stderr",
     "output_type": "stream",
     "text": [
      "                                                                                \r"
     ]
    }
   ],
   "source": [
    "# Удалим полностью дублирующиеся строки \n",
    "df = df.dropDuplicates()\n",
    "after_delete_dub = df.count()\n",
    "\n",
    "print(f\" Количество удаленных дубликатов равно: {before_delete_dub - after_delete_dub}\")\n",
    "print(f\"\\n Количество строк после удаления равно: {after_delete_dub}\")"
   ]
  },
  {
   "cell_type": "markdown",
   "metadata": {},
   "source": [
    "## Анализ колонок"
   ]
  },
  {
   "cell_type": "markdown",
   "metadata": {},
   "source": [
    "Создадим функцию для подсчета пустых значений в колонках"
   ]
  },
  {
   "cell_type": "code",
   "execution_count": null,
   "metadata": {},
   "outputs": [],
   "source": [
    "def count_nulls(data: DataFrame,\n",
    "                column_name: str) -> None:\n",
    "    \"\"\"\n",
    "    Подсчет количества null и not null значений в указанном столбце.\n",
    "\n",
    "    Args:\n",
    "        data (DataFrame): DataFrame, содержащий данные.\n",
    "        column_name (str): Имя столбца для подсчета null и not null значений.\n",
    "    \n",
    "    Returns:\n",
    "        None\n",
    "    \"\"\"\n",
    "    # Подсчет количества null значений в указанном столбце\n",
    "    null_counts = data.select(\n",
    "        sum(col(column_name).isNull().cast(\"int\"))\n",
    "    ).collect()[0][0]\n",
    "\n",
    "    # Подсчет количества not null значений в указанном столбце\n",
    "    not_null_counts = data.select(\n",
    "        sum(col(column_name).isNotNull().cast(\"int\"))\n",
    "    ).collect()[0][0]\n",
    "\n",
    "    # Вывод результатов\n",
    "    print(f\"Число колонок с NULL: {null_counts} \"\n",
    "          f\"({100 * null_counts / (null_counts + not_null_counts):.2f}%)\")"
   ]
  },
  {
   "cell_type": "markdown",
   "metadata": {},
   "source": [
    "1. Анализ колонки Ply - Количество полуходов (ходов для белых и черных) в текущей игре. (Это количество ходов без взятия фигуры и движения пешек. Используется для правила 50 ходов, после которых может быть объявлена ничья.)"
   ]
  },
  {
   "cell_type": "code",
   "execution_count": 18,
   "metadata": {},
   "outputs": [
    {
     "name": "stderr",
     "output_type": "stream",
     "text": [
      "[Stage 31:================================================>       (32 + 5) / 37]\r"
     ]
    },
    {
     "name": "stdout",
     "output_type": "stream",
     "text": [
      "Число колонок с NULL: 0 (0.00%)\n"
     ]
    },
    {
     "name": "stderr",
     "output_type": "stream",
     "text": [
      "                                                                                \r"
     ]
    }
   ],
   "source": [
    "count_nulls(data=df, column_name=\"Ply\")"
   ]
  },
  {
   "cell_type": "code",
   "execution_count": 25,
   "metadata": {},
   "outputs": [
    {
     "name": "stderr",
     "output_type": "stream",
     "text": [
      "[Stage 64:====================================================>   (35 + 2) / 37]\r"
     ]
    },
    {
     "name": "stdout",
     "output_type": "stream",
     "text": [
      "+---+-------+\n",
      "|Ply|  count|\n",
      "+---+-------+\n",
      "| 33|1212704|\n",
      "| 34|1210706|\n",
      "| 35|1210394|\n",
      "| 32|1208462|\n",
      "| 31|1207514|\n",
      "| 36|1205642|\n",
      "| 37|1202596|\n",
      "| 38|1197057|\n",
      "| 30|1196581|\n",
      "| 39|1191135|\n",
      "| 29|1189713|\n",
      "| 40|1185353|\n",
      "| 41|1179922|\n",
      "| 42|1172632|\n",
      "| 28|1168959|\n",
      "| 43|1165338|\n",
      "| 44|1158416|\n",
      "| 27|1154346|\n",
      "| 45|1151930|\n",
      "| 46|1143608|\n",
      "+---+-------+\n",
      "only showing top 20 rows\n",
      "\n"
     ]
    },
    {
     "name": "stderr",
     "output_type": "stream",
     "text": [
      "                                                                                \r"
     ]
    }
   ],
   "source": [
    "# Проверим на наличие дубликатов (естественно они будут)\n",
    "(\n",
    "    df\n",
    "    .groupBy(\"Ply\")\n",
    "    .count()\n",
    "    .where(\"count > 1\")\n",
    "    .orderBy(\"count\", ascending=False)\n",
    "    .show()\n",
    ")"
   ]
  },
  {
   "cell_type": "code",
   "execution_count": 26,
   "metadata": {},
   "outputs": [
    {
     "name": "stdout",
     "output_type": "stream",
     "text": [
      "+---+-------+----------+------+------+\n",
      "|Ply|GamePly|HasCastled|  Eval|Result|\n",
      "+---+-------+----------+------+------+\n",
      "| 33|     65|         3| 290.0|   1.0|\n",
      "| 33|    154|         3|  -8.0|   0.0|\n",
      "| 33|    132|         1|  31.0|   1.0|\n",
      "| 33|    168|         0| -68.0|   0.0|\n",
      "| 33|     77|         3|-160.0|   0.5|\n",
      "| 33|    183|         3|  17.0|   1.0|\n",
      "| 33|     86|         3| -15.0|   0.0|\n",
      "| 33|     81|         3| 266.0|   1.0|\n",
      "| 33|    141|         3| 120.0|   1.0|\n",
      "| 33|     95|         0|  20.0|   1.0|\n",
      "| 33|    116|         2| -17.0|   0.5|\n",
      "| 33|     67|         3| -63.0|   0.5|\n",
      "| 33|    123|         3|  54.0|   1.0|\n",
      "| 33|    231|         1| -15.0|   0.5|\n",
      "| 33|     67|         3|-133.0|   0.5|\n",
      "| 33|    123|         3| 111.0|   1.0|\n",
      "| 33|    141|         3| -91.0|   1.0|\n",
      "| 33|    228|         3|  60.0|   0.5|\n",
      "| 33|     68|         3| -36.0|   0.0|\n",
      "| 33|    116|         1| 104.0|   0.5|\n",
      "+---+-------+----------+------+------+\n",
      "only showing top 20 rows\n",
      "\n"
     ]
    }
   ],
   "source": [
    "# Выведем пример дубликатов (как видим, они не индентичны)\n",
    "df.filter(col(\"Ply\") == \"33\").show()"
   ]
  },
  {
   "cell_type": "code",
   "execution_count": 43,
   "metadata": {},
   "outputs": [
    {
     "name": "stderr",
     "output_type": "stream",
     "text": [
      "                                                                                \r"
     ]
    },
    {
     "name": "stdout",
     "output_type": "stream",
     "text": [
      "Минимальное значение:          11.00\n",
      "Среднее значение:              92.67\n",
      "Среднеквадратичное отклонение: 59.09\n",
      "Первый квартиль:               49.00\n",
      "Медиана:                       81.00\n",
      "Третий квартиль:               122.00\n",
      "Максимальное значение:         799.00\n"
     ]
    },
    {
     "data": {
      "image/png": "[encoded data removed]",
      "text/plain": [
       "<Figure size 800x600 with 1 Axes>"
      ]
     },
     "metadata": {},
     "output_type": "display_data"
    }
   ],
   "source": [
    "import matplotlib.pyplot as plt\n",
    "from pyspark.sql.functions import col\n",
    "\n",
    "def plot_boxplots_for_ply(data: DataFrame, column: str, sample_fraction: float = 0.1) -> None:\n",
    "    \"\"\"\n",
    "    Построение boxplot для одного столбца (например, Ply) в PySpark DataFrame.\n",
    "\n",
    "    Args:\n",
    "        data (DataFrame): DataFrame, содержащий данные.\n",
    "        column (str): Имя столбца для построения boxplot.\n",
    "        sample_fraction (float): Доля данных для семплирования выбросов.\n",
    "    \n",
    "    Returns:\n",
    "        None\n",
    "    \"\"\"\n",
    "    # Вычисление квантилей\n",
    "    quantiles = data.approxQuantile(column, [0.25, 0.5, 0.75], 0.01)\n",
    "    q1, median, q3 = quantiles\n",
    "\n",
    "    # Вычисление IQR и границ усов\n",
    "    iqr = q3 - q1\n",
    "    lower_bound = q1 - 1.5 * iqr\n",
    "    upper_bound = q3 + 1.5 * iqr\n",
    "\n",
    "    # Фильтрация выбросов\n",
    "    filtered_df = data.filter((col(column) >= lower_bound) & (col(column) <= upper_bound))\n",
    "    outliers_df = data.filter((col(column) < lower_bound) | (col(column) > upper_bound))\n",
    "\n",
    "    # Вычисление минимального и максимального значений\n",
    "    min_value = data.agg({column: \"min\"}).collect()[0][0]\n",
    "    mean_value = data.agg({column: \"mean\"}).collect()[0][0]\n",
    "    std_value = data.agg({column: \"std\"}).collect()[0][0]\n",
    "    max_value = data.agg({column: \"max\"}).collect()[0][0]\n",
    "\n",
    "    # Ограничение усов минимальным и максимальным значениями\n",
    "    lower_bound = max(lower_bound, min_value)\n",
    "    upper_bound = min(upper_bound, max_value)\n",
    "\n",
    "    # Семплирование выбросов\n",
    "    outliers = []\n",
    "    if not outliers_df.isEmpty():\n",
    "        sampled_outliers_df = outliers_df.sample(sample_fraction)\n",
    "        outliers = (\n",
    "            sampled_outliers_df\n",
    "            .select(column)\n",
    "            .limit(1000)\n",
    "            .collect()\n",
    "        )\n",
    "        outliers = [row[column] for row in outliers]\n",
    "\n",
    "        # Добавление минимального и максимального значений, если они\n",
    "        # относятся к выбросам и не присутствуют в семпле\n",
    "        if min_value < lower_bound and min_value not in outliers:\n",
    "            outliers.append(min_value)\n",
    "        if max_value > upper_bound and max_value not in outliers:\n",
    "            outliers.append(max_value)\n",
    "\n",
    "    # Подготовка данных для axes.bxp\n",
    "    box_data = [{\n",
    "        'whislo': lower_bound,  # Нижняя граница усов\n",
    "        'q1': q1,               # Первый квартиль\n",
    "        'med': median,          # Медиана\n",
    "        'q3': q3,               # Третий квартиль\n",
    "        'whishi': upper_bound,  # Верхняя граница усов\n",
    "        'fliers': outliers      # Выбросы\n",
    "    }]\n",
    "    \n",
    "    # Вывод статистических характеристик\n",
    "    print(f\"Минимальное значение:          {min_value:.2f}\")\n",
    "    print(f\"Среднее значение:              {mean_value:.2f}\")\n",
    "    print(f\"Среднеквадратичное отклонение: {std_value:.2f}\")\n",
    "    print(f\"Первый квартиль:               {q1:.2f}\")\n",
    "    print(f\"Медиана:                       {median:.2f}\")\n",
    "    print(f\"Третий квартиль:               {q3:.2f}\")\n",
    "    print(f\"Максимальное значение:         {max_value:.2f}\")\n",
    "\n",
    "    # Построение boxplot\n",
    "    fig, ax = plt.subplots(figsize=(8, 6))\n",
    "    ax.bxp(box_data, vert=False, positions=[1], widths=0.5)\n",
    "    ax.set_yticks([1])\n",
    "    ax.set_yticklabels([column])\n",
    "    ax.set_xlabel('Value')\n",
    "    ax.set_title(f'Boxplot for {column}')\n",
    "    ax.grid(True)\n",
    "    plt.show()\n",
    "\n",
    "# Вызов функции с вашим датафреймом для столбца \"Ply\"\n",
    "plot_boxplots_for_ply(data=df, column=\"Ply\")\n"
   ]
  },
  {
   "cell_type": "markdown",
   "metadata": {},
   "source": [
    "Отфильтруем данные, оставив только те значения, которые находятся в пределах допустимых границ (между нижней и верхней границей усов, как вычислено с помощью IQR)."
   ]
  },
  {
   "cell_type": "code",
   "execution_count": 53,
   "metadata": {},
   "outputs": [
    {
     "name": "stderr",
     "output_type": "stream",
     "text": [
      "                                                                                \r"
     ]
    },
    {
     "name": "stdout",
     "output_type": "stream",
     "text": [
      "Количество строк до удаления выбросов: 53644926\n"
     ]
    },
    {
     "name": "stderr",
     "output_type": "stream",
     "text": [
      "[Stage 388:=================================================>     (26 + 3) / 29]\r"
     ]
    },
    {
     "name": "stdout",
     "output_type": "stream",
     "text": [
      "Количество строк после удаления выбросов: 51989818\n"
     ]
    },
    {
     "name": "stderr",
     "output_type": "stream",
     "text": [
      "                                                                                \r"
     ]
    }
   ],
   "source": [
    "from pyspark.sql.functions import col\n",
    "\n",
    "def remove_outliers(data: DataFrame, column: str) -> DataFrame:\n",
    "    \"\"\"\n",
    "    Убирает выбросы из столбца в DataFrame, используя IQR.\n",
    "    \n",
    "    Args:\n",
    "        data (DataFrame): DataFrame, содержащий данные.\n",
    "        column (str): Имя столбца, из которого нужно удалить выбросы.\n",
    "    \n",
    "    Returns:\n",
    "        DataFrame: DataFrame без выбросов.\n",
    "    \"\"\"\n",
    "    # Вычисление квантилей для столбца\n",
    "    quantiles = data.approxQuantile(column, [0.25, 0.5, 0.75], 0.01)\n",
    "    q1, median, q3 = quantiles\n",
    "    \n",
    "    # Вычисление IQR и границ усов\n",
    "    iqr = q3 - q1\n",
    "    lower_bound = q1 - 1.5 * iqr\n",
    "    upper_bound = q3 + 1.5 * iqr\n",
    "    \n",
    "    # Фильтрация выбросов\n",
    "    filtered_data = data.filter((col(column) >= lower_bound) & (col(column) <= upper_bound))\n",
    "    \n",
    "    return filtered_data\n",
    "\n",
    "# Применяем функцию на данные для столбца \"Ply\"\n",
    "df_filtered = remove_outliers(data=df, column=\"Ply\")\n",
    "\n",
    "# Выводим количество строк до и после удаления выбросов\n",
    "print(f\"Количество строк до удаления выбросов: {df.count()}\")\n",
    "print(f\"Количество строк после удаления выбросов: {df_filtered.count()}\")\n"
   ]
  },
  {
   "cell_type": "markdown",
   "metadata": {},
   "source": [
    "2. Анализ колонки GamePly - Номер полного хода в игре (для белых и черных) (Это текущий номер хода, начиная с 1, где каждый полный ход включает два полушага — ход белых и ход черных.)"
   ]
  },
  {
   "cell_type": "code",
   "execution_count": 19,
   "metadata": {},
   "outputs": [
    {
     "name": "stderr",
     "output_type": "stream",
     "text": [
      "[Stage 37:================================================>       (32 + 5) / 37]\r"
     ]
    },
    {
     "name": "stdout",
     "output_type": "stream",
     "text": [
      "Число колонок с NULL: 0 (0.00%)\n"
     ]
    },
    {
     "name": "stderr",
     "output_type": "stream",
     "text": [
      "                                                                                \r"
     ]
    }
   ],
   "source": [
    "count_nulls(data=df, column_name=\"GamePly\")"
   ]
  },
  {
   "cell_type": "code",
   "execution_count": 44,
   "metadata": {},
   "outputs": [
    {
     "name": "stderr",
     "output_type": "stream",
     "text": [
      "                                                                                \r"
     ]
    },
    {
     "name": "stdout",
     "output_type": "stream",
     "text": [
      "Минимальное значение:          22.00\n",
      "Среднее значение:              170.50\n",
      "Среднеквадратичное отклонение: 74.60\n",
      "Первый квартиль:               118.00\n",
      "Медиана:                       156.00\n",
      "Третий квартиль:               210.00\n",
      "Максимальное значение:         810.00\n"
     ]
    },
    {
     "data": {
      "image/png": "[encoded data removed]",
      "text/plain": [
       "<Figure size 800x600 with 1 Axes>"
      ]
     },
     "metadata": {},
     "output_type": "display_data"
    }
   ],
   "source": [
    "def plot_boxplots_for_game_ply(data: DataFrame, column: str, sample_fraction: float = 0.1) -> None:\n",
    "    \"\"\"\n",
    "    Построение boxplot для одного столбца (например, GamePly) в PySpark DataFrame.\n",
    "\n",
    "    Args:\n",
    "        data (DataFrame): DataFrame, содержащий данные.\n",
    "        column (str): Имя столбца для построения boxplot.\n",
    "        sample_fraction (float): Доля данных для семплирования выбросов.\n",
    "    \n",
    "    Returns:\n",
    "        None\n",
    "    \"\"\"\n",
    "    # Вычисление квантилей\n",
    "    quantiles = data.approxQuantile(column, [0.25, 0.5, 0.75], 0.01)\n",
    "    q1, median, q3 = quantiles\n",
    "\n",
    "    # Вычисление IQR и границ усов\n",
    "    iqr = q3 - q1\n",
    "    lower_bound = q1 - 1.5 * iqr\n",
    "    upper_bound = q3 + 1.5 * iqr\n",
    "\n",
    "    # Фильтрация выбросов\n",
    "    filtered_df = data.filter((col(column) >= lower_bound) & (col(column) <= upper_bound))\n",
    "    outliers_df = data.filter((col(column) < lower_bound) | (col(column) > upper_bound))\n",
    "\n",
    "    # Вычисление минимального и максимального значений\n",
    "    min_value = data.agg({column: \"min\"}).collect()[0][0]\n",
    "    mean_value = data.agg({column: \"mean\"}).collect()[0][0]\n",
    "    std_value = data.agg({column: \"std\"}).collect()[0][0]\n",
    "    max_value = data.agg({column: \"max\"}).collect()[0][0]\n",
    "\n",
    "    # Ограничение усов минимальным и максимальным значениями\n",
    "    lower_bound = max(lower_bound, min_value)\n",
    "    upper_bound = min(upper_bound, max_value)\n",
    "\n",
    "    # Семплирование выбросов\n",
    "    outliers = []\n",
    "    if not outliers_df.isEmpty():\n",
    "        sampled_outliers_df = outliers_df.sample(sample_fraction)\n",
    "        outliers = (\n",
    "            sampled_outliers_df\n",
    "            .select(column)\n",
    "            .limit(1000)\n",
    "            .collect()\n",
    "        )\n",
    "        outliers = [row[column] for row in outliers]\n",
    "\n",
    "        # Добавление минимального и максимального значений, если они\n",
    "        # относятся к выбросам и не присутствуют в семпле\n",
    "        if min_value < lower_bound and min_value not in outliers:\n",
    "            outliers.append(min_value)\n",
    "        if max_value > upper_bound and max_value not in outliers:\n",
    "            outliers.append(max_value)\n",
    "\n",
    "    # Подготовка данных для axes.bxp\n",
    "    box_data = [{\n",
    "        'whislo': lower_bound,  # Нижняя граница усов\n",
    "        'q1': q1,               # Первый квартиль\n",
    "        'med': median,          # Медиана\n",
    "        'q3': q3,               # Третий квартиль\n",
    "        'whishi': upper_bound,  # Верхняя граница усов\n",
    "        'fliers': outliers      # Выбросы\n",
    "    }]\n",
    "    \n",
    "    # Вывод статистических характеристик\n",
    "    print(f\"Минимальное значение:          {min_value:.2f}\")\n",
    "    print(f\"Среднее значение:              {mean_value:.2f}\")\n",
    "    print(f\"Среднеквадратичное отклонение: {std_value:.2f}\")\n",
    "    print(f\"Первый квартиль:               {q1:.2f}\")\n",
    "    print(f\"Медиана:                       {median:.2f}\")\n",
    "    print(f\"Третий квартиль:               {q3:.2f}\")\n",
    "    print(f\"Максимальное значение:         {max_value:.2f}\")\n",
    "\n",
    "    # Построение boxplot\n",
    "    fig, ax = plt.subplots(figsize=(8, 6))\n",
    "    ax.bxp(box_data, vert=False, positions=[1], widths=0.5)\n",
    "    ax.set_yticks([1])\n",
    "    ax.set_yticklabels([column])\n",
    "    ax.set_xlabel('Value')\n",
    "    ax.set_title(f'Boxplot for {column}')\n",
    "    ax.grid(True)\n",
    "    plt.show()\n",
    "\n",
    "# Вызов функции с вашим датафреймом для столбца \"GamePly\"\n",
    "plot_boxplots_for_game_ply(data=df, column=\"GamePly\")\n"
   ]
  },
  {
   "cell_type": "markdown",
   "metadata": {},
   "source": [
    "Преобразование значений в столбце через логарифмирование может уменьшить влияние крупных выбросов. А далее удаление выбросов с использованием IQR (межквартильного размаха)."
   ]
  },
  {
   "cell_type": "code",
   "execution_count": 55,
   "metadata": {},
   "outputs": [
    {
     "name": "stderr",
     "output_type": "stream",
     "text": [
      "                                                                                \r"
     ]
    },
    {
     "name": "stdout",
     "output_type": "stream",
     "text": [
      "Количество строк до удаления выбросов: 53644926\n"
     ]
    },
    {
     "name": "stderr",
     "output_type": "stream",
     "text": [
      "[Stage 404:=====================================================> (28 + 1) / 29]\r"
     ]
    },
    {
     "name": "stdout",
     "output_type": "stream",
     "text": [
      "Количество строк после удаления выбросов: 53173028\n"
     ]
    },
    {
     "name": "stderr",
     "output_type": "stream",
     "text": [
      "                                                                                \r"
     ]
    }
   ],
   "source": [
    "from pyspark.sql.functions import log, col\n",
    "\n",
    "def log_transform_and_remove_outliers(data: DataFrame, column: str) -> DataFrame:\n",
    "    \"\"\"\n",
    "    Применяет логарифмирование для преобразования значений и удаляет выбросы с использованием IQR.\n",
    "    \n",
    "    Args:\n",
    "        data (DataFrame): DataFrame, содержащий данные.\n",
    "        column (str): Имя столбца, для которого нужно применить логарифмирование и удалить выбросы.\n",
    "    \n",
    "    Returns:\n",
    "        DataFrame: DataFrame после логарифмирования и удаления выбросов.\n",
    "    \"\"\"\n",
    "    # Логарифмирование значений в столбце с использованием PySpark функции\n",
    "    log_column = f\"log_{column}\"\n",
    "    data = data.withColumn(log_column, log(col(column)))\n",
    "\n",
    "    # Вычисление квантилей для логарифмированных значений\n",
    "    quantiles = data.approxQuantile(log_column, [0.25, 0.5, 0.75], 0.01)\n",
    "    q1, median, q3 = quantiles\n",
    "    \n",
    "    # Вычисление IQR и границ усов\n",
    "    iqr = q3 - q1\n",
    "    lower_bound = q1 - 1.5 * iqr\n",
    "    upper_bound = q3 + 1.5 * iqr\n",
    "    \n",
    "    # Фильтрация выбросов\n",
    "    filtered_data = data.filter((col(log_column) >= lower_bound) & (col(log_column) <= upper_bound))\n",
    "    \n",
    "    # Возвращаем данные без выбросов и с логарифмированными значениями\n",
    "    return filtered_data\n",
    "\n",
    "# Применяем функцию на данные для столбца \"GamePly\"\n",
    "df_filtered = log_transform_and_remove_outliers(data=df, column=\"GamePly\")\n",
    "\n",
    "# Выводим количество строк до и после удаления выбросов\n",
    "print(f\"Количество строк до удаления выбросов: {df.count()}\")\n",
    "print(f\"Количество строк после удаления выбросов: {df_filtered.count()}\")\n"
   ]
  },
  {
   "cell_type": "markdown",
   "metadata": {},
   "source": [
    "3. Анализ колонки HasCastled - Показывает, было ли сделано рокирование в игре (0 - не было, 3 - было) (категориальный, все ост. - количественные)"
   ]
  },
  {
   "cell_type": "code",
   "execution_count": 20,
   "metadata": {},
   "outputs": [
    {
     "name": "stderr",
     "output_type": "stream",
     "text": [
      "                                                                                \r"
     ]
    },
    {
     "name": "stdout",
     "output_type": "stream",
     "text": [
      "Число колонок с NULL: 0 (0.00%)\n"
     ]
    }
   ],
   "source": [
    "count_nulls(data=df, column_name=\"HasCastled\")"
   ]
  },
  {
   "cell_type": "code",
   "execution_count": 42,
   "metadata": {},
   "outputs": [
    {
     "name": "stderr",
     "output_type": "stream",
     "text": [
      "                                                                                \r"
     ]
    },
    {
     "name": "stdout",
     "output_type": "stream",
     "text": [
      "   HasCastled     count\n",
      "0           0   4235033\n",
      "1           1   8780438\n",
      "2           2   6137160\n",
      "3           3  34492295\n"
     ]
    },
    {
     "name": "stderr",
     "output_type": "stream",
     "text": [
      "/tmp/ipykernel_1558716/2462102440.py:36: FutureWarning: \n",
      "\n",
      "Passing `palette` without assigning `hue` is deprecated and will be removed in v0.14.0. Assign the `x` variable to `hue` and set `legend=False` for the same effect.\n",
      "\n",
      "  sns.barplot(x=\"HasCastled\", y=\"count\", data=categories_pd, palette=\"muted\")\n"
     ]
    },
    {
     "data": {
      "image/png": "[encoded data removed]",
      "text/plain": [
       "<Figure size 800x600 with 1 Axes>"
      ]
     },
     "metadata": {},
     "output_type": "display_data"
    }
   ],
   "source": [
    "import matplotlib.pyplot as plt\n",
    "import seaborn as sns\n",
    "from pyspark.sql.functions import col\n",
    "\n",
    "def plot_has_castled_distribution(data: DataFrame) -> None:\n",
    "    \"\"\"\n",
    "    Построение распределения для столбца HasCastled.\n",
    "\n",
    "    Args:\n",
    "        data (DataFrame): DataFrame, содержащий данные.\n",
    "\n",
    "    Returns:\n",
    "        None\n",
    "    \"\"\"\n",
    "    # Группировка данных по столбцу HasCastled и подсчет количества\n",
    "    categories = (\n",
    "        data\n",
    "        .groupBy(\"HasCastled\")\n",
    "        .count()\n",
    "        .orderBy(\"HasCastled\")\n",
    "    )\n",
    "\n",
    "    # Проверка наличия данных\n",
    "    if categories.count() == 0:\n",
    "        print(\"Нет данных для отображения.\")\n",
    "        return\n",
    "\n",
    "    # Преобразование в Pandas DataFrame\n",
    "    categories_pd = categories.toPandas()\n",
    "\n",
    "    # Проверка данных\n",
    "    print(categories_pd)\n",
    "\n",
    "    # Визуализация\n",
    "    plt.figure(figsize=(8, 6))\n",
    "    sns.barplot(x=\"HasCastled\", y=\"count\", data=categories_pd, palette=\"muted\")\n",
    "\n",
    "    # Настройка осей\n",
    "    plt.title(\"Распределение категорий 'HasCastled'\")\n",
    "    plt.xlabel(\"Категория (0 - не было, 1, 2, 3 - было)\")\n",
    "    plt.ylabel(\"Количество встречений\")\n",
    "    plt.xticks(rotation=0)\n",
    "    plt.gca().yaxis.set_major_locator(plt.MaxNLocator(integer=True))  # Целочисленные значения на оси Y\n",
    "\n",
    "    # Отображение графика\n",
    "    plt.show()\n",
    "\n",
    "# Вызов функции с вашим датафреймом\n",
    "plot_has_castled_distribution(data=df)\n"
   ]
  },
  {
   "cell_type": "markdown",
   "metadata": {},
   "source": [
    "4. Анализ колонки Eval - Оценка текущей позиции в терминах силы (например, положительное значение для белых, отрицательное — для черных)"
   ]
  },
  {
   "cell_type": "code",
   "execution_count": 21,
   "metadata": {},
   "outputs": [
    {
     "name": "stderr",
     "output_type": "stream",
     "text": [
      "[Stage 49:====================================================>   (35 + 2) / 37]\r"
     ]
    },
    {
     "name": "stdout",
     "output_type": "stream",
     "text": [
      "Число колонок с NULL: 0 (0.00%)\n"
     ]
    },
    {
     "name": "stderr",
     "output_type": "stream",
     "text": [
      "                                                                                \r"
     ]
    }
   ],
   "source": [
    "count_nulls(data=df, column_name=\"Eval\")"
   ]
  },
  {
   "cell_type": "code",
   "execution_count": 45,
   "metadata": {},
   "outputs": [
    {
     "name": "stderr",
     "output_type": "stream",
     "text": [
      "                                                                                \r"
     ]
    },
    {
     "name": "stdout",
     "output_type": "stream",
     "text": [
      "Минимальное значение:          -7479.00\n",
      "Среднее значение:              40.57\n",
      "Среднеквадратичное отклонение: 539.52\n",
      "Первый квартиль:               -111.00\n",
      "Медиана:                       27.00\n",
      "Третий квартиль:               178.00\n",
      "Максимальное значение:         7427.00\n"
     ]
    },
    {
     "data": {
      "image/png": "[encoded data removed]",
      "text/plain": [
       "<Figure size 800x600 with 1 Axes>"
      ]
     },
     "metadata": {},
     "output_type": "display_data"
    }
   ],
   "source": [
    "def plot_boxplots_for_eval(data: DataFrame, column: str, sample_fraction: float = 0.1) -> None:\n",
    "    \"\"\"\n",
    "    Построение boxplot для одного столбца (например, Eval) в PySpark DataFrame.\n",
    "\n",
    "    Args:\n",
    "        data (DataFrame): DataFrame, содержащий данные.\n",
    "        column (str): Имя столбца для построения boxplot.\n",
    "        sample_fraction (float): Доля данных для семплирования выбросов.\n",
    "    \n",
    "    Returns:\n",
    "        None\n",
    "    \"\"\"\n",
    "    # Вычисление квантилей\n",
    "    quantiles = data.approxQuantile(column, [0.25, 0.5, 0.75], 0.01)\n",
    "    q1, median, q3 = quantiles\n",
    "\n",
    "    # Вычисление IQR и границ усов\n",
    "    iqr = q3 - q1\n",
    "    lower_bound = q1 - 1.5 * iqr\n",
    "    upper_bound = q3 + 1.5 * iqr\n",
    "\n",
    "    # Фильтрация выбросов\n",
    "    filtered_df = data.filter((col(column) >= lower_bound) & (col(column) <= upper_bound))\n",
    "    outliers_df = data.filter((col(column) < lower_bound) | (col(column) > upper_bound))\n",
    "\n",
    "    # Вычисление минимального и максимального значений\n",
    "    min_value = data.agg({column: \"min\"}).collect()[0][0]\n",
    "    mean_value = data.agg({column: \"mean\"}).collect()[0][0]\n",
    "    std_value = data.agg({column: \"std\"}).collect()[0][0]\n",
    "    max_value = data.agg({column: \"max\"}).collect()[0][0]\n",
    "\n",
    "    # Ограничение усов минимальным и максимальным значениями\n",
    "    lower_bound = max(lower_bound, min_value)\n",
    "    upper_bound = min(upper_bound, max_value)\n",
    "\n",
    "    # Семплирование выбросов\n",
    "    outliers = []\n",
    "    if not outliers_df.isEmpty():\n",
    "        sampled_outliers_df = outliers_df.sample(sample_fraction)\n",
    "        outliers = (\n",
    "            sampled_outliers_df\n",
    "            .select(column)\n",
    "            .limit(1000)\n",
    "            .collect()\n",
    "        )\n",
    "        outliers = [row[column] for row in outliers]\n",
    "\n",
    "        # Добавление минимального и максимального значений, если они\n",
    "        # относятся к выбросам и не присутствуют в семпле\n",
    "        if min_value < lower_bound and min_value not in outliers:\n",
    "            outliers.append(min_value)\n",
    "        if max_value > upper_bound and max_value not in outliers:\n",
    "            outliers.append(max_value)\n",
    "\n",
    "    # Подготовка данных для axes.bxp\n",
    "    box_data = [{\n",
    "        'whislo': lower_bound,  # Нижняя граница усов\n",
    "        'q1': q1,               # Первый квартиль\n",
    "        'med': median,          # Медиана\n",
    "        'q3': q3,               # Третий квартиль\n",
    "        'whishi': upper_bound,  # Верхняя граница усов\n",
    "        'fliers': outliers      # Выбросы\n",
    "    }]\n",
    "    \n",
    "    # Вывод статистических характеристик\n",
    "    print(f\"Минимальное значение:          {min_value:.2f}\")\n",
    "    print(f\"Среднее значение:              {mean_value:.2f}\")\n",
    "    print(f\"Среднеквадратичное отклонение: {std_value:.2f}\")\n",
    "    print(f\"Первый квартиль:               {q1:.2f}\")\n",
    "    print(f\"Медиана:                       {median:.2f}\")\n",
    "    print(f\"Третий квартиль:               {q3:.2f}\")\n",
    "    print(f\"Максимальное значение:         {max_value:.2f}\")\n",
    "\n",
    "    # Построение boxplot\n",
    "    fig, ax = plt.subplots(figsize=(8, 6))\n",
    "    ax.bxp(box_data, vert=False, positions=[1], widths=0.5)\n",
    "    ax.set_yticks([1])\n",
    "    ax.set_yticklabels([column])\n",
    "    ax.set_xlabel('Value')\n",
    "    ax.set_title(f'Boxplot for {column}')\n",
    "    ax.grid(True)\n",
    "    plt.show()\n",
    "\n",
    "# Вызов функции с вашим датафреймом для столбца \"Eval\"\n",
    "plot_boxplots_for_eval(data=df, column=\"Eval\")\n"
   ]
  },
  {
   "cell_type": "markdown",
   "metadata": {},
   "source": [
    "Преобразование значений в столбце через логарифмирование может уменьшить влияние крупных выбросов. А далее удаление выбросов с использованием IQR (межквартильного размаха)."
   ]
  },
  {
   "cell_type": "code",
   "execution_count": 56,
   "metadata": {},
   "outputs": [
    {
     "name": "stderr",
     "output_type": "stream",
     "text": [
      "                                                                                \r"
     ]
    },
    {
     "name": "stdout",
     "output_type": "stream",
     "text": [
      "Количество строк до удаления выбросов: 53644926\n"
     ]
    },
    {
     "name": "stderr",
     "output_type": "stream",
     "text": [
      "[Stage 420:===================================================>   (16 + 1) / 17]\r"
     ]
    },
    {
     "name": "stdout",
     "output_type": "stream",
     "text": [
      "Количество строк после удаления выбросов: 29311339\n"
     ]
    },
    {
     "name": "stderr",
     "output_type": "stream",
     "text": [
      "                                                                                \r"
     ]
    }
   ],
   "source": [
    "from pyspark.sql.functions import log, col\n",
    "\n",
    "def log_transform_and_remove_outliers_for_eval(data: DataFrame, column: str) -> DataFrame:\n",
    "    \"\"\"\n",
    "    Применяет логарифмирование для преобразования значений и удаляет выбросы с использованием IQR.\n",
    "    \n",
    "    Args:\n",
    "        data (DataFrame): DataFrame, содержащий данные.\n",
    "        column (str): Имя столбца, для которого нужно применить логарифмирование и удалить выбросы.\n",
    "    \n",
    "    Returns:\n",
    "        DataFrame: DataFrame после логарифмирования и удаления выбросов.\n",
    "    \"\"\"\n",
    "    # Логарифмирование значений в столбце с использованием PySpark функции\n",
    "    log_column = f\"log_{column}\"\n",
    "    data = data.withColumn(log_column, log(col(column)))\n",
    "\n",
    "    # Вычисление квантилей для логарифмированных значений\n",
    "    quantiles = data.approxQuantile(log_column, [0.25, 0.5, 0.75], 0.01)\n",
    "    q1, median, q3 = quantiles\n",
    "    \n",
    "    # Вычисление IQR и границ усов\n",
    "    iqr = q3 - q1\n",
    "    lower_bound = q1 - 1.5 * iqr\n",
    "    upper_bound = q3 + 1.5 * iqr\n",
    "    \n",
    "    # Фильтрация выбросов\n",
    "    filtered_data = data.filter((col(log_column) >= lower_bound) & (col(log_column) <= upper_bound))\n",
    "    \n",
    "    # Возвращаем данные без выбросов и с логарифмированными значениями\n",
    "    return filtered_data\n",
    "\n",
    "# Применяем функцию на данные для столбца \"Eval\"\n",
    "df_filtered_eval = log_transform_and_remove_outliers_for_eval(data=df, column=\"Eval\")\n",
    "\n",
    "# Выводим количество строк до и после удаления выбросов\n",
    "print(f\"Количество строк до удаления выбросов: {df.count()}\")\n",
    "print(f\"Количество строк после удаления выбросов: {df_filtered_eval.count()}\")\n"
   ]
  },
  {
   "cell_type": "markdown",
   "metadata": {},
   "source": [
    "5. Анализ колонки Result - Результат игры (    0.0 — поражение для игрока, чей ход зафиксирован,\n",
    "    0.5 — ничья,\n",
    "    1.0 — победа для игрока, чей ход зафиксирован. (категориальный)"
   ]
  },
  {
   "cell_type": "code",
   "execution_count": 22,
   "metadata": {},
   "outputs": [
    {
     "name": "stderr",
     "output_type": "stream",
     "text": [
      "[Stage 55:===================================>                   (24 + 13) / 37]\r"
     ]
    },
    {
     "name": "stdout",
     "output_type": "stream",
     "text": [
      "Число колонок с NULL: 0 (0.00%)\n"
     ]
    },
    {
     "name": "stderr",
     "output_type": "stream",
     "text": [
      "                                                                                \r"
     ]
    }
   ],
   "source": [
    "count_nulls(data=df, column_name=\"Result\")"
   ]
  },
  {
   "cell_type": "code",
   "execution_count": 47,
   "metadata": {},
   "outputs": [
    {
     "name": "stderr",
     "output_type": "stream",
     "text": [
      "                                                                                \r"
     ]
    },
    {
     "name": "stdout",
     "output_type": "stream",
     "text": [
      "   Result     count\n",
      "0     0.0  15265825\n",
      "1     0.5  20431319\n",
      "2     1.0  17947782\n"
     ]
    },
    {
     "name": "stderr",
     "output_type": "stream",
     "text": [
      "/tmp/ipykernel_1558716/3902654487.py:36: FutureWarning: \n",
      "\n",
      "Passing `palette` without assigning `hue` is deprecated and will be removed in v0.14.0. Assign the `x` variable to `hue` and set `legend=False` for the same effect.\n",
      "\n",
      "  sns.barplot(x=\"Result\", y=\"count\", data=categories_pd, palette=\"muted\")\n"
     ]
    },
    {
     "data": {
      "image/png": "[encoded data removed]",
      "text/plain": [
       "<Figure size 800x600 with 1 Axes>"
      ]
     },
     "metadata": {},
     "output_type": "display_data"
    }
   ],
   "source": [
    "import matplotlib.pyplot as plt\n",
    "import seaborn as sns\n",
    "from pyspark.sql.functions import col\n",
    "\n",
    "def plot_result_distribution(data: DataFrame) -> None:\n",
    "    \"\"\"\n",
    "    Построение распределения для столбца Result.\n",
    "\n",
    "    Args:\n",
    "        data (DataFrame): DataFrame, содержащий данные.\n",
    "\n",
    "    Returns:\n",
    "        None\n",
    "    \"\"\"\n",
    "    # Группировка данных по столбцу Result и подсчет количества\n",
    "    categories = (\n",
    "        data\n",
    "        .groupBy(\"Result\")\n",
    "        .count()\n",
    "        .orderBy(\"Result\")\n",
    "    )\n",
    "\n",
    "    # Проверка наличия данных\n",
    "    if categories.count() == 0:\n",
    "        print(\"Нет данных для отображения.\")\n",
    "        return\n",
    "\n",
    "    # Преобразование в Pandas DataFrame\n",
    "    categories_pd = categories.toPandas()\n",
    "\n",
    "    # Проверка данных\n",
    "    print(categories_pd)\n",
    "\n",
    "    # Визуализация\n",
    "    plt.figure(figsize=(8, 6))\n",
    "    sns.barplot(x=\"Result\", y=\"count\", data=categories_pd, palette=\"muted\")\n",
    "\n",
    "    # Настройка осей\n",
    "    plt.title(\"Распределение категорий 'Result'\")\n",
    "    plt.xlabel(\"Категория (0.0 - поражение, 0.5 - ничья, 1.0 - победа)\")\n",
    "    plt.ylabel(\"Количество встречений\")\n",
    "    plt.xticks(rotation=0)\n",
    "    plt.gca().yaxis.set_major_locator(plt.MaxNLocator(integer=True))  # Целочисленные значения на оси Y\n",
    "\n",
    "    # Отображение графика\n",
    "    plt.show()\n",
    "\n",
    "# Вызов функции с вашим датафреймом\n",
    "plot_result_distribution(data=df)\n"
   ]
  },
  {
   "cell_type": "markdown",
   "metadata": {},
   "source": [
    "## Корреляции между количественными признаками"
   ]
  },
  {
   "cell_type": "code",
   "execution_count": 48,
   "metadata": {},
   "outputs": [
    {
     "name": "stderr",
     "output_type": "stream",
     "text": [
      "                                                                                \r"
     ]
    },
    {
     "data": {
      "image/png": "[encoded data removed]",
      "text/plain": [
       "<Figure size 1000x800 with 2 Axes>"
      ]
     },
     "metadata": {},
     "output_type": "display_data"
    }
   ],
   "source": [
    "import matplotlib.pyplot as plt\n",
    "import seaborn as sns\n",
    "from pyspark.sql.functions import corr\n",
    "import pandas as pd\n",
    "\n",
    "def compute_and_visualize_correlation_matrix(data: DataFrame, \n",
    "                                             columns: list[str]) -> None:\n",
    "    \"\"\"\n",
    "    Вычисляет и визуализирует корреляционную матрицу для указанных \n",
    "    колонок в DataFrame PySpark.\n",
    "\n",
    "    Args:\n",
    "        data (DataFrame): DataFrame PySpark.\n",
    "        columns (list[str]): Список колонок для вычисления корреляции.\n",
    "\n",
    "    Returns:\n",
    "        None\n",
    "    \"\"\"\n",
    "    # Вычисление корреляционной матрицы\n",
    "    corr_matrix = {}\n",
    "    for col1 in columns:\n",
    "        corr_matrix[col1] = {}\n",
    "        for col2 in columns:\n",
    "            corr_value = data.select(corr(col1, col2)).collect()[0][0]\n",
    "            corr_matrix[col1][col2] = corr_value\n",
    "\n",
    "    # Преобразование корреляционной матрицы в DataFrame Pandas для визуализации\n",
    "    corr_matrix_pd = pd.DataFrame(corr_matrix)\n",
    "\n",
    "    # Построение и визуализация корреляционной матрицы\n",
    "    plt.figure(figsize=(10, 8))\n",
    "    sns.heatmap(corr_matrix_pd, annot=True, cmap='coolwarm', linewidths=0.5)\n",
    "    plt.title('Correlation Matrix')\n",
    "    plt.show()\n",
    "\n",
    "# Вызов функции с вашими столбцами\n",
    "compute_and_visualize_correlation_matrix(\n",
    "    data=df, columns=[\"Ply\", \"GamePly\", \"Eval\"]\n",
    ")\n"
   ]
  },
  {
   "cell_type": "markdown",
   "metadata": {},
   "source": [
    "-- Ply: Целое число. От 0 и выше (обычно от 0 до 100, в зависимости от хода). \n",
    "    Количество полуходов (ходов для белых и черных) в текущей игре. Это число увеличивается на 1 с каждым ходом.\n",
    "\n",
    "-- GamePly: Целое число. От 1 и выше (обычно от 1 до 200 и более). \n",
    "    Номер полного хода в игре (для белых и черных). Например, если в игре было сделано 10 полных ходов, то GamePly будет 10.\n",
    "\n",
    "-- Eval: Число с плавающей точкой. От -∞ до +∞.\n",
    "    Оценка текущей позиции в терминах силы (например, положительное значение для белых, отрицательное — для черных)."
   ]
  },
  {
   "cell_type": "code",
   "execution_count": 49,
   "metadata": {},
   "outputs": [
    {
     "name": "stderr",
     "output_type": "stream",
     "text": [
      "                                                                                \r"
     ]
    },
    {
     "data": {
      "text/plain": [
       "53644926"
      ]
     },
     "execution_count": 49,
     "metadata": {},
     "output_type": "execute_result"
    }
   ],
   "source": [
    "df.count()"
   ]
  },
  {
   "cell_type": "code",
   "execution_count": 50,
   "metadata": {},
   "outputs": [
    {
     "name": "stdout",
     "output_type": "stream",
     "text": [
      "root\n",
      " |-- Ply: integer (nullable = true)\n",
      " |-- GamePly: integer (nullable = true)\n",
      " |-- HasCastled: integer (nullable = true)\n",
      " |-- Eval: float (nullable = true)\n",
      " |-- Result: float (nullable = true)\n",
      "\n"
     ]
    }
   ],
   "source": [
    "df.printSchema()"
   ]
  },
  {
   "cell_type": "markdown",
   "metadata": {},
   "source": [
    "Сохраним очищенную и обработанную таблицу на диск"
   ]
  },
  {
   "cell_type": "code",
   "execution_count": 51,
   "metadata": {},
   "outputs": [
    {
     "name": "stderr",
     "output_type": "stream",
     "text": [
      "                                                                                \r"
     ]
    }
   ],
   "source": [
    "# Сохранение DataFrame в виде таблицы\n",
    "df.writeTo(\"sobd_table_lab2\").using(\"iceberg\").create()"
   ]
  },
  {
   "cell_type": "code",
   "execution_count": 52,
   "metadata": {},
   "outputs": [
    {
     "name": "stdout",
     "output_type": "stream",
     "text": [
      "sobd_table_lab1\n",
      "sobd_table_lab2\n"
     ]
    }
   ],
   "source": [
    "for table in spark.catalog.listTables():\n",
    "    print(table.name)"
   ]
  },
  {
   "cell_type": "markdown",
   "metadata": {},
   "source": [
    "ПРИМЕР (удаления таблицы):\n",
    "##### spark.sql(\"DROP TABLE spark_catalog.ivanov_database.sobd_lab1_table\")\n",
    "##### spark.sql(\"DROP DATABASE spark_catalog.ivanov_database\")"
   ]
  },
  {
   "cell_type": "code",
   "execution_count": null,
   "metadata": {},
   "outputs": [],
   "source": [
    "# После удачной записи остановим сессию\n",
    "spark.stop()"
   ]
  }
 ],
 "metadata": {
  "kernelspec": {
   "display_name": "Python 3",
   "language": "python",
   "name": "python3"
  },
  "language_info": {
   "codemirror_mode": {
    "name": "ipython",
    "version": 3
   },
   "file_extension": ".py",
   "mimetype": "text/x-python",
   "name": "python",
   "nbconvert_exporter": "python",
   "pygments_lexer": "ipython3",
   "version": "3.11.9"
  }
 },
 "nbformat": 4,
 "nbformat_minor": 2
}
