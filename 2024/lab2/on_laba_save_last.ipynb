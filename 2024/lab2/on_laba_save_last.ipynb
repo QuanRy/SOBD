{
 "cells": [
  {
   "cell_type": "code",
   "execution_count": 38,
   "metadata": {},
   "outputs": [],
   "source": [
    "import os\n",
    "import csv\n",
    "from pyspark import SparkConf\n",
    "from pyspark.sql import SparkSession, DataFrame\n",
    "from pyspark.ml.tuning import CrossValidator, CrossValidatorModel, ParamGridBuilder\n",
    "from pyspark.ml.evaluation import RegressionEvaluator\n",
    "from pyspark.ml.feature import VectorAssembler, StringIndexer, OneHotEncoder, MinMaxScaler, Binarizer\n",
    "from pyspark.ml.regression import LinearRegression\n",
    "from pyspark.ml import Pipeline\n",
    "from pyspark.sql.types import DoubleType\n",
    "import seaborn as sns\n",
    "import matplotlib.pyplot as plt\n",
    "\n",
    "from pyspark.sql.functions import (\n",
    "    regexp_replace,\n",
    "    regexp_extract_all,\n",
    "    col,\n",
    "    lit\n",
    ")"
   ]
  },
  {
   "cell_type": "code",
   "execution_count": 2,
   "metadata": {},
   "outputs": [],
   "source": [
    "def create_spark_configuration() -> SparkConf:\n",
    "    \"\"\"\n",
    "    Создает и конфигурирует экземпляр SparkConf для приложения Spark.\n",
    "\n",
    "    Returns:\n",
    "        SparkConf: Настроенный экземпляр SparkConf.\n",
    "    \"\"\"\n",
    "    # Получаем имя пользователя\n",
    "    user_name = os.getenv(\"USER\")\n",
    "    \n",
    "    conf = SparkConf()\n",
    "    conf.setAppName(\"lab 1 Test\")\n",
    "    conf.setMaster(\"yarn\")\n",
    "    conf.set(\"spark.submit.deployMode\", \"client\")\n",
    "    conf.set(\"spark.executor.memory\", \"12g\")\n",
    "    conf.set(\"spark.executor.cores\", \"8\")\n",
    "    conf.set(\"spark.executor.instances\", \"2\")\n",
    "    conf.set(\"spark.driver.memory\", \"4g\")\n",
    "    conf.set(\"spark.driver.cores\", \"2\")\n",
    "    conf.set(\"spark.jars.packages\", \"org.apache.iceberg:iceberg-spark-runtime-3.5_2.12:1.6.0\")\n",
    "    conf.set(\"spark.sql.extensions\", \"org.apache.iceberg.spark.extensions.IcebergSparkSessionExtensions\")\n",
    "    conf.set(\"spark.sql.catalog.spark_catalog\", \"org.apache.iceberg.spark.SparkCatalog\")\n",
    "    conf.set(\"spark.sql.catalog.spark_catalog.type\", \"hadoop\")\n",
    "    conf.set(\"spark.sql.catalog.spark_catalog.warehouse\", f\"hdfs:///user/{user_name}/warehouse\")\n",
    "    conf.set(\"spark.sql.catalog.spark_catalog.io-impl\", \"org.apache.iceberg.hadoop.HadoopFileIO\")\n",
    "\n",
    "    return conf"
   ]
  },
  {
   "cell_type": "code",
   "execution_count": 3,
   "metadata": {},
   "outputs": [],
   "source": [
    "conf = create_spark_configuration()"
   ]
  },
  {
   "cell_type": "code",
   "execution_count": 4,
   "metadata": {},
   "outputs": [
    {
     "name": "stdout",
     "output_type": "stream",
     "text": [
      ":: loading settings :: url = jar:file:/opt/spark-3.5.2-bin-hadoop3/jars/ivy-2.5.1.jar!/org/apache/ivy/core/settings/ivysettings.xml\n"
     ]
    },
    {
     "name": "stderr",
     "output_type": "stream",
     "text": [
      "Ivy Default Cache set to: /home/user0/.ivy2/cache\n",
      "The jars for the packages stored in: /home/user0/.ivy2/jars\n",
      "org.apache.iceberg#iceberg-spark-runtime-3.5_2.12 added as a dependency\n",
      ":: resolving dependencies :: org.apache.spark#spark-submit-parent-020cf246-37c0-4fd4-8417-34241d68c4ad;1.0\n",
      "\tconfs: [default]\n",
      "\tfound org.apache.iceberg#iceberg-spark-runtime-3.5_2.12;1.6.0 in central\n",
      ":: resolution report :: resolve 586ms :: artifacts dl 19ms\n",
      "\t:: modules in use:\n",
      "\torg.apache.iceberg#iceberg-spark-runtime-3.5_2.12;1.6.0 from central in [default]\n",
      "\t---------------------------------------------------------------------\n",
      "\t|                  |            modules            ||   artifacts   |\n",
      "\t|       conf       | number| search|dwnlded|evicted|| number|dwnlded|\n",
      "\t---------------------------------------------------------------------\n",
      "\t|      default     |   1   |   0   |   0   |   0   ||   1   |   0   |\n",
      "\t---------------------------------------------------------------------\n",
      ":: retrieving :: org.apache.spark#spark-submit-parent-020cf246-37c0-4fd4-8417-34241d68c4ad\n",
      "\tconfs: [default]\n",
      "\t0 artifacts copied, 1 already retrieved (0kB/24ms)\n",
      "Setting default log level to \"WARN\".\n",
      "To adjust logging level use sc.setLogLevel(newLevel). For SparkR, use setLogLevel(newLevel).\n",
      "25/01/15 11:01:53 WARN Utils: Service 'SparkUI' could not bind on port 4040. Attempting port 4041.\n",
      "25/01/15 11:01:53 WARN Utils: Service 'SparkUI' could not bind on port 4041. Attempting port 4042.\n",
      "25/01/15 11:01:53 WARN Utils: Service 'SparkUI' could not bind on port 4042. Attempting port 4043.\n",
      "25/01/15 11:01:53 WARN Utils: Service 'SparkUI' could not bind on port 4043. Attempting port 4044.\n",
      "25/01/15 11:01:53 WARN Utils: Service 'SparkUI' could not bind on port 4044. Attempting port 4045.\n",
      "25/01/15 11:01:53 WARN Utils: Service 'SparkUI' could not bind on port 4045. Attempting port 4046.\n",
      "25/01/15 11:01:53 WARN Utils: Service 'SparkUI' could not bind on port 4046. Attempting port 4047.\n",
      "25/01/15 11:01:58 WARN Client: Neither spark.yarn.jars nor spark.yarn.archive is set, falling back to uploading libraries under SPARK_HOME.\n",
      "25/01/15 11:02:18 WARN Client: Same path resource file:///home/user0/.ivy2/jars/org.apache.iceberg_iceberg-spark-runtime-3.5_2.12-1.6.0.jar added multiple times to distributed cache.\n"
     ]
    },
    {
     "data": {
      "text/html": [
       "\n",
       "            <div>\n",
       "                <p><b>SparkSession - in-memory</b></p>\n",
       "                \n",
       "        <div>\n",
       "            <p><b>SparkContext</b></p>\n",
       "\n",
       "            <p><a href=\"http://node32.cluster:4047\">Spark UI</a></p>\n",
       "\n",
       "            <dl>\n",
       "              <dt>Version</dt>\n",
       "                <dd><code>v3.5.2</code></dd>\n",
       "              <dt>Master</dt>\n",
       "                <dd><code>yarn</code></dd>\n",
       "              <dt>AppName</dt>\n",
       "                <dd><code>lab 1 Test</code></dd>\n",
       "            </dl>\n",
       "        </div>\n",
       "        \n",
       "            </div>\n",
       "        "
      ],
      "text/plain": [
       "<pyspark.sql.session.SparkSession at 0x7f17c8624c10>"
      ]
     },
     "execution_count": 4,
     "metadata": {},
     "output_type": "execute_result"
    }
   ],
   "source": [
    "spark = SparkSession.builder.config(conf=conf).getOrCreate()\n",
    "spark"
   ]
  },
  {
   "cell_type": "code",
   "execution_count": 6,
   "metadata": {},
   "outputs": [
    {
     "name": "stderr",
     "output_type": "stream",
     "text": [
      "                                                                                \r"
     ]
    },
    {
     "name": "stdout",
     "output_type": "stream",
     "text": [
      "Shaheen_database\n",
      "abrosimov_database\n",
      "abrosimov_database2\n",
      "akopian_database\n",
      "grigorev_database\n",
      "grigorev_database_new\n",
      "grigorev_database_new_1\n",
      "gysynin_dmitry_database\n",
      "ivanov_database\n",
      "moschenko_database\n",
      "petrov_database\n",
      "samorokov_database\n",
      "samorokov_db\n",
      "samorokov_db_new\n",
      "samorokov_db_new_small\n",
      "semen_database\n",
      "semen_lab1\n",
      "shaheen_database\n",
      "utin_database\n",
      "utin_ilya_database\n",
      "utin_ilya_database1\n",
      "zaporozhski_database\n"
     ]
    }
   ],
   "source": [
    "# Список всех баз данных в Spark\n",
    "databases = spark.catalog.listDatabases()\n",
    "\n",
    "# Вывод имён баз данных\n",
    "for db in databases:\n",
    "    print(db.name)\n"
   ]
  },
  {
   "cell_type": "code",
   "execution_count": 7,
   "metadata": {},
   "outputs": [],
   "source": [
    "database_name = \"samorokov_db_new_small\""
   ]
  },
  {
   "cell_type": "code",
   "execution_count": 8,
   "metadata": {},
   "outputs": [],
   "source": [
    "# Создадим инструкцию SQL для добавления базы данных в каталог Apache Spark\n",
    "create_database_sql = f\"\"\"\n",
    "CREATE DATABASE IF NOT EXISTS spark_catalog.{database_name}\n",
    "\"\"\""
   ]
  },
  {
   "cell_type": "code",
   "execution_count": 9,
   "metadata": {},
   "outputs": [
    {
     "data": {
      "text/plain": [
       "DataFrame[]"
      ]
     },
     "execution_count": 9,
     "metadata": {},
     "output_type": "execute_result"
    }
   ],
   "source": [
    "spark.sql(create_database_sql)"
   ]
  },
  {
   "cell_type": "code",
   "execution_count": 10,
   "metadata": {},
   "outputs": [],
   "source": [
    "# Установим БД, как текущую\n",
    "spark.catalog.setCurrentDatabase(database_name)"
   ]
  },
  {
   "cell_type": "code",
   "execution_count": 11,
   "metadata": {},
   "outputs": [
    {
     "name": "stdout",
     "output_type": "stream",
     "text": [
      "sobd_table_new_small\n"
     ]
    }
   ],
   "source": [
    "for table in spark.catalog.listTables():\n",
    "    print(table.name)"
   ]
  },
  {
   "cell_type": "code",
   "execution_count": 14,
   "metadata": {},
   "outputs": [
    {
     "name": "stderr",
     "output_type": "stream",
     "text": [
      "[Stage 23:>                                                         (0 + 1) / 1]\r"
     ]
    },
    {
     "name": "stdout",
     "output_type": "stream",
     "text": [
      "+---+-------+----------+-------+------+\n",
      "|Ply|GamePly|HasCastled|   Eval|Result|\n",
      "+---+-------+----------+-------+------+\n",
      "|110|    157|         2|  305.0|   1.0|\n",
      "| 29|    238|         3|  108.0|   0.5|\n",
      "| 40|    231|         3|   46.0|   1.0|\n",
      "| 44|    111|         3|  236.0|   1.0|\n",
      "| 38|    165|         0|   37.0|   0.5|\n",
      "| 54|    119|         3|  223.0|   0.5|\n",
      "| 93|    129|         3|  450.0|   1.0|\n",
      "| 43|    141|         3|  112.0|   1.0|\n",
      "|100|    114|         3|-1894.0|   0.0|\n",
      "| 80|    119|         2|  198.0|   0.5|\n",
      "| 28|     46|         3|   -8.0|   0.0|\n",
      "| 34|    197|         3|   -3.0|   1.0|\n",
      "| 32|    110|         3|  -79.0|   0.0|\n",
      "| 14|    103|         1|   59.0|   0.5|\n",
      "| 24|     93|         3|  108.0|   1.0|\n",
      "| 45|    112|         3|   63.0|   0.5|\n",
      "| 38|     69|         3|   30.0|   1.0|\n",
      "| 78|     92|         3|  215.0|   1.0|\n",
      "| 73|    161|         3|  -23.0|   0.0|\n",
      "| 64|     75|         3|  396.0|   1.0|\n",
      "+---+-------+----------+-------+------+\n",
      "only showing top 20 rows\n",
      "\n"
     ]
    },
    {
     "name": "stderr",
     "output_type": "stream",
     "text": [
      "                                                                                \r"
     ]
    }
   ],
   "source": [
    "# Прочитаем таблчку из БД\n",
    "df = spark.table(\"sobd_table_new_small\").limit(1000)\n",
    "\n",
    "# Выведем табличку на экран\n",
    "df.show()"
   ]
  },
  {
   "cell_type": "code",
   "execution_count": 15,
   "metadata": {},
   "outputs": [
    {
     "name": "stderr",
     "output_type": "stream",
     "text": [
      "                                                                                \r"
     ]
    },
    {
     "data": {
      "text/plain": [
       "1000"
      ]
     },
     "execution_count": 15,
     "metadata": {},
     "output_type": "execute_result"
    }
   ],
   "source": [
    "df.count()"
   ]
  },
  {
   "cell_type": "code",
   "execution_count": 16,
   "metadata": {},
   "outputs": [
    {
     "name": "stdout",
     "output_type": "stream",
     "text": [
      "root\n",
      " |-- Ply: integer (nullable = true)\n",
      " |-- GamePly: integer (nullable = true)\n",
      " |-- HasCastled: integer (nullable = true)\n",
      " |-- Eval: float (nullable = true)\n",
      " |-- Result: float (nullable = true)\n",
      "\n"
     ]
    }
   ],
   "source": [
    "# Посмотрим на схему данных \n",
    "df.printSchema()"
   ]
  },
  {
   "cell_type": "code",
   "execution_count": 17,
   "metadata": {},
   "outputs": [
    {
     "name": "stdout",
     "output_type": "stream",
     "text": [
      "+---+-------+----------+-------+------+\n",
      "|Ply|GamePly|HasCastled|   Eval|Result|\n",
      "+---+-------+----------+-------+------+\n",
      "|110|    157|         1|  305.0|   1.0|\n",
      "| 29|    238|         1|  108.0|   0.0|\n",
      "| 40|    231|         1|   46.0|   1.0|\n",
      "| 44|    111|         1|  236.0|   1.0|\n",
      "| 38|    165|         0|   37.0|   0.0|\n",
      "| 54|    119|         1|  223.0|   0.0|\n",
      "| 93|    129|         1|  450.0|   1.0|\n",
      "| 43|    141|         1|  112.0|   1.0|\n",
      "|100|    114|         1|-1894.0|   0.0|\n",
      "| 80|    119|         1|  198.0|   0.0|\n",
      "| 28|     46|         1|   -8.0|   0.0|\n",
      "| 34|    197|         1|   -3.0|   1.0|\n",
      "| 32|    110|         1|  -79.0|   0.0|\n",
      "| 14|    103|         1|   59.0|   0.0|\n",
      "| 24|     93|         1|  108.0|   1.0|\n",
      "+---+-------+----------+-------+------+\n",
      "only showing top 15 rows\n",
      "\n"
     ]
    }
   ],
   "source": [
    "from pyspark.sql.functions import when, col\n",
    "\n",
    "def binary_transform(df: DataFrame) -> DataFrame:\n",
    "    # Бинаризация столбца 'HasCastled'\n",
    "    df = df.withColumn('HasCastled', when(col('HasCastled') == 0, 0)\n",
    "                                  .otherwise(1))\n",
    "    \n",
    "    # Бинаризация столбца 'Result'\n",
    "    df = df.withColumn('Result', when(col('Result') == 0.5, 0)\n",
    "                                  .otherwise(col('Result')))\n",
    "    \n",
    "    # Возвращаем обновленный DataFrame\n",
    "    return df\n",
    "\n",
    "# Применяем бинаризацию к данным\n",
    "df = binary_transform(df)\n",
    "\n",
    "# Выводим первые несколько строк преобразованного DataFrame для проверки\n",
    "df.show(15)\n"
   ]
  },
  {
   "cell_type": "markdown",
   "metadata": {},
   "source": [
    "### Проведем балансировку данных \n",
    "##### (проверим как значения целевой переменной схожи с друг другом по соотношению (сколько 0 и 1))"
   ]
  },
  {
   "cell_type": "code",
   "execution_count": 69,
   "metadata": {},
   "outputs": [
    {
     "name": "stdout",
     "output_type": "stream",
     "text": [
      "Количество 1.0: 367\n",
      "Количество 0.0: 633\n"
     ]
    },
    {
     "data": {
      "image/png": "[encoded data removed]",
      "text/plain": [
       "<Figure size 800x600 with 1 Axes>"
      ]
     },
     "metadata": {},
     "output_type": "display_data"
    }
   ],
   "source": [
    "from pyspark.sql import DataFrame\n",
    "import matplotlib.pyplot as plt\n",
    "\n",
    "def check_balance(data: DataFrame) -> None:\n",
    "    \"\"\"\n",
    "    Проверяет баланс классов в столбце Result и строит круговую диаграмму.\n",
    "\n",
    "    Args:\n",
    "        data (DataFrame): DataFrame, содержащий столбец Result.\n",
    "    \"\"\"\n",
    "    # Подсчет классов в столбце Result\n",
    "    result_counts = data.groupBy('Result').count().collect()\n",
    "\n",
    "    # Извлекаем значения\n",
    "    labels = [row['Result'] for row in result_counts]\n",
    "    counts = [row['count'] for row in result_counts]\n",
    "\n",
    "    # Печатаем результаты\n",
    "    for label, count in zip(labels, counts):\n",
    "        print(f\"Количество {label}: {count}\")\n",
    "\n",
    "    # Создание круговой диаграммы\n",
    "    plt.figure(figsize=(8, 6))\n",
    "    plt.pie(counts, labels=[str(label) for label in labels], autopct='%1.1f%%', startangle=90)\n",
    "    plt.title('Distribution of Result Classes - распределение классов результатов')\n",
    "    plt.axis('equal')  \n",
    "    plt.show()\n",
    "\n",
    "# Вызов функции для проверки баланса классов\n",
    "check_balance(df)  \n"
   ]
  },
  {
   "cell_type": "code",
   "execution_count": 18,
   "metadata": {},
   "outputs": [
    {
     "name": "stderr",
     "output_type": "stream",
     "text": [
      "                                                                                \r"
     ]
    },
    {
     "name": "stdout",
     "output_type": "stream",
     "text": [
      "Train dataset size: 801\n"
     ]
    },
    {
     "name": "stderr",
     "output_type": "stream",
     "text": [
      "[Stage 33:>                                                         (0 + 1) / 1]\r"
     ]
    },
    {
     "name": "stdout",
     "output_type": "stream",
     "text": [
      "Test  dataset size: 199\n"
     ]
    },
    {
     "name": "stderr",
     "output_type": "stream",
     "text": [
      "                                                                                \r"
     ]
    }
   ],
   "source": [
    "# Разделим датасет на обучающую и тестовую\n",
    "train_df, test_df = df.randomSplit([0.8, 0.2])\n",
    "\n",
    "print(f\"Train dataset size: {train_df.count()}\")\n",
    "print(f\"Test  dataset size: {test_df.count()}\")"
   ]
  },
  {
   "cell_type": "code",
   "execution_count": 20,
   "metadata": {},
   "outputs": [],
   "source": [
    "# В качестве предсказуемого возьмем Result\n",
    "binary_features = [\"HasCastled\"]\n",
    "numeric_features = [\"Eval\", \"GamePly\", \"Ply\"]\n"
   ]
  },
  {
   "cell_type": "code",
   "execution_count": 31,
   "metadata": {},
   "outputs": [],
   "source": [
    "from pyspark.ml import Pipeline\n",
    "from pyspark.ml.feature import StringIndexer, OneHotEncoder, VectorAssembler, MinMaxScaler\n",
    "from pyspark.ml.evaluation import BinaryClassificationEvaluator\n",
    "from pyspark.ml.classification import LogisticRegression\n",
    "from pyspark.sql import DataFrame\n",
    "\n",
    "def create_logistic_regression_pipeline(binary_features: list[str], numeric_features: list[str], \n",
    "                                        label_col: str, max_iter: int) -> Pipeline:\n",
    "    \n",
    "    # Формируем названия колонок для преобразованных признаков\n",
    "    # Для бинарных признаков создаем новые колонки с бинаризованными значениями\n",
    "    # Для категориальных признаков индексация и one-hot encoding\n",
    "    indexed_binary_features = [f\"{feature}_index\" for feature in binary_features]\n",
    "    onehot_binary_features = [f\"{feature}_ohe\" for feature in binary_features]\n",
    "    \n",
    "    # Преобразование данных\n",
    "    # Индексация бинарных признаков\n",
    "    binary_indexer = StringIndexer(inputCols=binary_features, \n",
    "                                   outputCols=indexed_binary_features, \n",
    "                                   handleInvalid=\"skip\")\n",
    "    \n",
    "    # OneHotEncoding бинарных признаков (если необходимо)\n",
    "    binary_onehot_encoder = OneHotEncoder(\n",
    "        inputCols=indexed_binary_features,\n",
    "        outputCols=onehot_binary_features,\n",
    "        dropLast=True,\n",
    "        handleInvalid=\"keep\"  # Обновлено: используем \"keep\"\n",
    "    )\n",
    "    \n",
    "    # Преобразование числовых признаков в вектор\n",
    "    vector_num_assembler = VectorAssembler(inputCols=numeric_features, \n",
    "                                           outputCol=\"numeric_vector\")\n",
    "    \n",
    "    # Масштабирование числовых признаков\n",
    "    numeric_scaler = MinMaxScaler(inputCol=\"numeric_vector\", \n",
    "                                   outputCol=\"numeric_vector_scaled\")\n",
    "    \n",
    "    # Объединяем все признаки в один вектор\n",
    "    vector_all_assembler = VectorAssembler(inputCols=(onehot_binary_features + \n",
    "                                                     binary_features + \n",
    "                                                     [\"numeric_vector_scaled\"]),\n",
    "                                           outputCol=\"features\")\n",
    "    \n",
    "    # Создаем модель логистической регрессии\n",
    "    logistic_regression = LogisticRegression(featuresCol=\"features\", \n",
    "                                             labelCol=label_col, \n",
    "                                             predictionCol=\"prediction\", \n",
    "                                             maxIter=max_iter)\n",
    "    \n",
    "    # Создаем конвейер\n",
    "    pipeline = Pipeline(stages=[\n",
    "        binary_indexer, \n",
    "        binary_onehot_encoder, \n",
    "        vector_num_assembler, \n",
    "        numeric_scaler, \n",
    "        vector_all_assembler, \n",
    "        logistic_regression\n",
    "    ])\n",
    "    \n",
    "    return pipeline\n",
    "\n",
    "\n",
    "label_col = \"Result\"  # Если хочешь предсказать, было ли рокирование (для примера)\n",
    "\n",
    "max_iter = 100  # Количество итераций для логистической регрессии\n",
    "\n",
    "train_data = train_df \n",
    "\n",
    "# Создание конвейера для логистической регрессии\n",
    "logistic_regression_pipeline = create_logistic_regression_pipeline(\n",
    "    binary_features, numeric_features, label_col, max_iter\n",
    ")"
   ]
  },
  {
   "cell_type": "code",
   "execution_count": 32,
   "metadata": {},
   "outputs": [],
   "source": [
    "param_grid = ParamGridBuilder() \\\n",
    "    .addGrid(logistic_regression_pipeline.getStages()[-1].regParam, [0.01, 0.1, 1.0]) \\\n",
    "    .addGrid(logistic_regression_pipeline.getStages()[-1].elasticNetParam, [0.0, 0.5, 1.0]) \\\n",
    "    .addGrid(logistic_regression_pipeline.getStages()[-1].maxIter, [50, 100, 200]) \\\n",
    "    .build()\n"
   ]
  },
  {
   "cell_type": "code",
   "execution_count": 33,
   "metadata": {},
   "outputs": [],
   "source": [
    "cv_evaluator = RegressionEvaluator(labelCol=\"Result\",\n",
    "                                   predictionCol=\"prediction\")"
   ]
  },
  {
   "cell_type": "code",
   "execution_count": 34,
   "metadata": {},
   "outputs": [],
   "source": [
    "cross_validator = CrossValidator(estimator=logistic_regression_pipeline,\n",
    "                                 estimatorParamMaps=param_grid,\n",
    "                                 evaluator=cv_evaluator,\n",
    "                                 numFolds=5)"
   ]
  },
  {
   "cell_type": "code",
   "execution_count": 35,
   "metadata": {},
   "outputs": [
    {
     "name": "stderr",
     "output_type": "stream",
     "text": [
      "25/01/15 11:45:37 WARN CacheManager: Asked to cache already cached data.\n",
      "25/01/15 11:45:37 WARN CacheManager: Asked to cache already cached data.\n",
      "25/01/15 11:45:56 WARN InstanceBuilder: Failed to load implementation from:dev.ludovic.netlib.blas.JNIBLAS\n",
      "                                                                                \r"
     ]
    }
   ],
   "source": [
    "# ЗАПУСК ОБУЧЕНИЯ МОДЕЛИ\n",
    "cv_model = cross_validator.fit(train_data)"
   ]
  },
  {
   "cell_type": "markdown",
   "metadata": {},
   "source": [
    "Посмотрим, что за модель получилась"
   ]
  },
  {
   "cell_type": "code",
   "execution_count": 36,
   "metadata": {},
   "outputs": [],
   "source": [
    "def get_best_model_params(cv_model: CrossValidatorModel) -> dict[str, float]:\n",
    "    \"\"\"\n",
    "    Получает параметры лучшей модели из объекта CrossValidatorModel.\n",
    "\n",
    "    Args:\n",
    "        cv_model (CrossValidatorModel): Объект CrossValidatorModel, \n",
    "            содержащий лучшую модель.\n",
    "\n",
    "    Returns:\n",
    "        Dict[str, float]: Параметры лучшей модели.\n",
    "    \"\"\"\n",
    "    best_model = cv_model.bestModel\n",
    "    best_params = {\n",
    "        \"regParam\": best_model.stages[-1].getRegParam(),\n",
    "        \"elasticNetParam\": best_model.stages[-1].getElasticNetParam(),\n",
    "        \"maxIter\": best_model.stages[-1].getMaxIter()\n",
    "    }\n",
    "    return best_params"
   ]
  },
  {
   "cell_type": "code",
   "execution_count": 37,
   "metadata": {},
   "outputs": [
    {
     "name": "stdout",
     "output_type": "stream",
     "text": [
      "regParam: 0.01\n",
      "elasticNetParam: 1.0\n",
      "maxIter: 50\n"
     ]
    }
   ],
   "source": [
    "for key, value in get_best_model_params(cv_model=cv_model).items():\n",
    "    print(f\"{key}: {value}\")"
   ]
  },
  {
   "cell_type": "code",
   "execution_count": 39,
   "metadata": {},
   "outputs": [
    {
     "ename": "AttributeError",
     "evalue": "'BinaryLogisticRegressionTrainingSummary' object has no attribute 'rootMeanSquaredError'",
     "output_type": "error",
     "traceback": [
      "\u001b[0;31m---------------------------------------------------------------------------\u001b[0m",
      "\u001b[0;31mAttributeError\u001b[0m                            Traceback (most recent call last)",
      "Cell \u001b[0;32mIn[39], line 39\u001b[0m\n\u001b[1;32m     35\u001b[0m     plt\u001b[38;5;241m.\u001b[39mgrid()\n\u001b[1;32m     37\u001b[0m     plt\u001b[38;5;241m.\u001b[39mshow()\n\u001b[0;32m---> 39\u001b[0m \u001b[43mplot_training_summary\u001b[49m\u001b[43m(\u001b[49m\u001b[43mcv_model\u001b[49m\u001b[43m)\u001b[49m\n",
      "Cell \u001b[0;32mIn[39], line 28\u001b[0m, in \u001b[0;36mplot_training_summary\u001b[0;34m(cv_model)\u001b[0m\n\u001b[1;32m     25\u001b[0m plt\u001b[38;5;241m.\u001b[39mtitle(\u001b[38;5;124m\"\u001b[39m\u001b[38;5;124mЗависимость значения функции ошибки от номера итерации\u001b[39m\u001b[38;5;124m\"\u001b[39m)\n\u001b[1;32m     27\u001b[0m \u001b[38;5;66;03m# Получаем значения метрик\u001b[39;00m\n\u001b[0;32m---> 28\u001b[0m rmse \u001b[38;5;241m=\u001b[39m \u001b[43mtraining_summary\u001b[49m\u001b[38;5;241;43m.\u001b[39;49m\u001b[43mrootMeanSquaredError\u001b[49m\n\u001b[1;32m     29\u001b[0m r2 \u001b[38;5;241m=\u001b[39m training_summary\u001b[38;5;241m.\u001b[39mr2\n\u001b[1;32m     31\u001b[0m \u001b[38;5;66;03m# Добавляем значения метрик на график\u001b[39;00m\n",
      "\u001b[0;31mAttributeError\u001b[0m: 'BinaryLogisticRegressionTrainingSummary' object has no attribute 'rootMeanSquaredError'"
     ]
    },
    {
     "data": {
      "image/png": "[encoded data removed]",
      "text/plain": [
       "<Figure size 1000x600 with 1 Axes>"
      ]
     },
     "metadata": {},
     "output_type": "display_data"
    }
   ],
   "source": [
    "def plot_training_summary(cv_model: DataFrame) -> None:\n",
    "    \"\"\"\n",
    "    Отображает графики зависимости значения ошибки от номера итерации на\n",
    "    обучающей выборке, а также значения метрик RMSE и R^2.\n",
    "\n",
    "    Args:\n",
    "        cv_model (DataFrame): Обученная модель с использованием кросс-валидации.\n",
    "    \"\"\"\n",
    "    # Получаем лучшую модель\n",
    "    best_model = cv_model.bestModel\n",
    "\n",
    "    # Получаем информацию о процессе обучения\n",
    "    training_summary = best_model.stages[-1].summary\n",
    "\n",
    "    # Получаем значения ошибки для каждой итерации\n",
    "    objective_history = training_summary.objectiveHistory\n",
    "\n",
    "    # Строим график зависимости значения ошибки от номера итерации\n",
    "    plt.figure(figsize=(10, 6))\n",
    "    sns.lineplot(x=range(len(objective_history)), \n",
    "                 y=objective_history, \n",
    "                 marker='o')\n",
    "    plt.xlabel('Итерация')\n",
    "    plt.ylabel('Ошибка')\n",
    "    plt.title(\"Зависимость значения функции ошибки от номера итерации\")\n",
    "\n",
    "    # Получаем значения метрик\n",
    "    rmse = training_summary.rootMeanSquaredError\n",
    "    r2 = training_summary.r2\n",
    "\n",
    "    # Добавляем значения метрик на график\n",
    "    plt.text(0.95, 0.95, f\"RMSE: {rmse:.2f}\\nR^2: {r2:.2f}\",\n",
    "             transform=plt.gca().transAxes, ha='right', va='top',\n",
    "             bbox=dict(facecolor='white', alpha=0.8), zorder=5)\n",
    "    plt.grid()\n",
    "\n",
    "    plt.show()\n",
    "    \n",
    "plot_training_summary(cv_model)"
   ]
  },
  {
   "cell_type": "markdown",
   "metadata": {},
   "source": [
    "### Проверка обобщающей способности модели\n",
    "\n",
    "##### Выполним предсказания на тестовой выборке.\n",
    "\n",
    "##### Перегруппируем колонки датафрейма, переставив столбец с ценой автомобиля в конец, чтобы его значения было удобно сравнивать с предсказанными."
   ]
  },
  {
   "cell_type": "code",
   "execution_count": 41,
   "metadata": {},
   "outputs": [
    {
     "name": "stderr",
     "output_type": "stream",
     "text": [
      "[Stage 3966:=================================================>    (34 + 3) / 37]\r"
     ]
    },
    {
     "name": "stdout",
     "output_type": "stream",
     "text": [
      "+---+-------+----------+------+----------------+--------------+-------------------+---------------------+--------------------+--------------------+--------------------+----------+------+\n",
      "|Ply|GamePly|HasCastled|  Eval|HasCastled_index|HasCastled_ohe|     numeric_vector|numeric_vector_scaled|            features|       rawPrediction|         probability|prediction|Result|\n",
      "+---+-------+----------+------+----------------+--------------+-------------------+---------------------+--------------------+--------------------+--------------------+----------+------+\n",
      "| 14|     47|         0|  19.0|             1.0| (2,[1],[1.0])|   [19.0,47.0,14.0]| [0.40791027154663...|[0.0,1.0,0.0,0.40...|[-0.1023263736078...|[0.47444070465494...|       1.0|   0.0|\n",
      "| 15|    107|         1|  -6.0|             0.0| (2,[0],[1.0])|  [-6.0,107.0,15.0]| [0.40422077922077...|[1.0,0.0,1.0,0.40...|[0.47992334597282...|[0.61772977387360...|       0.0|   1.0|\n",
      "| 16|    137|         1|   4.0|             0.0| (2,[0],[1.0])|   [4.0,137.0,16.0]| [0.40569657615112...|[1.0,0.0,1.0,0.40...|[0.63113526651969...|[0.65274683584613...|       0.0|   1.0|\n",
      "| 17|     45|         1| -53.0|             0.0| (2,[0],[1.0])|  [-53.0,45.0,17.0]| [0.39728453364817...|[1.0,0.0,1.0,0.39...|[0.34409389808692...|[0.58518463570001...|       0.0|   0.0|\n",
      "| 17|    120|         1| -43.0|             0.0| (2,[0],[1.0])| [-43.0,120.0,17.0]| [0.39876033057851...|[1.0,0.0,1.0,0.39...|[0.80937888146100...|[0.69197713191534...|       0.0|   0.0|\n",
      "| 17|    120|         1|  21.0|             0.0| (2,[0],[1.0])|  [21.0,120.0,17.0]| [0.40820543093270...|[1.0,0.0,1.0,0.40...|[0.40745263623561...|[0.60047691180603...|       0.0|   0.0|\n",
      "| 17|    198|         1|  61.0|             0.0| (2,[0],[1.0])|  [61.0,198.0,17.0]| [0.41410861865407...|[1.0,0.0,1.0,0.41...|[0.70545813052791...|[0.66939679709502...|       0.0|   0.0|\n",
      "| 18|    110|         1|  22.0|             0.0| (2,[0],[1.0])|  [22.0,110.0,18.0]| [0.40835301062573...|[1.0,0.0,1.0,0.40...|[0.33353959011567...|[0.58262036357797...|       0.0|   0.0|\n",
      "| 18|    170|         0|  -1.0|             1.0| (2,[1],[1.0])|  [-1.0,170.0,18.0]| [0.40495867768595...|[0.0,1.0,0.0,0.40...|[0.90045060184598...|[0.71104209264020...|       0.0|   0.0|\n",
      "| 20|    167|         1|  38.0|             0.0| (2,[0],[1.0])|  [38.0,167.0,20.0]| [0.41071428571428...|[1.0,0.0,1.0,0.41...|[0.63996038316837...|[0.65474450511249...|       0.0|   1.0|\n",
      "| 21|    171|         1|-107.0|             0.0| (2,[0],[1.0])|[-107.0,171.0,21.0]| [0.38931523022432...|[1.0,0.0,1.0,0.38...|[1.58151762968442...|[0.82941934397829...|       0.0|   0.0|\n",
      "| 22|     72|         1| 164.0|             0.0| (2,[0],[1.0])|  [164.0,72.0,22.0]| [0.42930932703659...|[1.0,0.0,1.0,0.42...|[-0.8146837683862...|[0.30689331213162...|       1.0|   0.0|\n",
      "| 23|     80|         0| -62.0|             1.0| (2,[1],[1.0])|  [-62.0,80.0,23.0]| [0.39595631641086...|[0.0,1.0,0.0,0.39...|[0.66372596673334...|[0.66009687785428...|       0.0|   0.0|\n",
      "| 25|    119|         1|  16.0|             0.0| (2,[0],[1.0])|  [16.0,119.0,25.0]| [0.40746753246753...|[1.0,0.0,1.0,0.40...|[0.45404007951820...|[0.61159936857563...|       0.0|   0.0|\n",
      "| 25|    125|         1|  30.0|             0.0| (2,[0],[1.0])|  [30.0,125.0,25.0]| [0.40953364817001...|[1.0,0.0,1.0,0.40...|[0.40836559011039...|[0.60069591334424...|       0.0|   1.0|\n",
      "| 26|    112|         1| -28.0|             0.0| (2,[0],[1.0])| [-28.0,112.0,26.0]| [0.40097402597402...|[1.0,0.0,1.0,0.40...|[0.68385486293999...|[0.66459851909641...|       0.0|   0.0|\n",
      "| 27|     88|         1| -23.0|             0.0| (2,[0],[1.0])|  [-23.0,88.0,27.0]| [0.40171192443919...|[1.0,0.0,1.0,0.40...|[0.48624538077789...|[0.61922154199876...|       0.0|   0.0|\n",
      "| 27|     93|         1| -47.0|             0.0| (2,[0],[1.0])|  [-47.0,93.0,27.0]| [0.39817001180637...|[1.0,0.0,1.0,0.39...|[0.67217345335012...|[0.66198966080587...|       0.0|   1.0|\n",
      "| 27|    289|         0| -29.0|             1.0| (2,[1],[1.0])| [-29.0,289.0,27.0]| [0.40082644628099...|[0.0,1.0,0.0,0.40...|[1.93919633689845...|[0.87426382611065...|       0.0|   0.0|\n",
      "| 28|     54|         1|  55.0|             0.0| (2,[0],[1.0])|   [55.0,54.0,28.0]| [0.41322314049586...|[1.0,0.0,1.0,0.41...|[-0.2402226860698...|[0.44023147398144...|       1.0|   0.0|\n",
      "+---+-------+----------+------+----------------+--------------+-------------------+---------------------+--------------------+--------------------+--------------------+----------+------+\n",
      "only showing top 20 rows\n",
      "\n"
     ]
    },
    {
     "name": "stderr",
     "output_type": "stream",
     "text": [
      "                                                                                \r"
     ]
    }
   ],
   "source": [
    "# Получаем датасет предсказаний\n",
    "test_df_predictions = cv_model.transform(test_df)\n",
    "\n",
    "# Извлекаем список колонок, устанавливаем цену на последнее место\n",
    "right_columns_order = test_df_predictions.columns\n",
    "right_columns_order.remove(\"Result\")\n",
    "right_columns_order.append(\"Result\")\n",
    "\n",
    "# Изменяем последовательность колонок и выводим датафрейм\n",
    "test_df_predictions = test_df_predictions.select(*right_columns_order)\n",
    "test_df_predictions.show()"
   ]
  },
  {
   "cell_type": "code",
   "execution_count": 53,
   "metadata": {},
   "outputs": [],
   "source": [
    "def evaluate_model(data: DataFrame, metric_name: str) -> float:\n",
    "    \"\"\"\n",
    "    Оценивает модель с использованием указанной метрики.\n",
    "\n",
    "    Args:\n",
    "        data (DataFrame): DataFrame, содержащий предсказания и фактические метки.\n",
    "        metric_name (str): Название метрики для оценки (например, \"rmse\", \"r2\").\n",
    "\n",
    "    Returns:\n",
    "        float: Значение указанной метрики.\n",
    "    \"\"\"\n",
    "    evaluator = RegressionEvaluator(labelCol=\"Result\", \n",
    "                                    predictionCol=\"prediction\", \n",
    "                                    metricName=metric_name)\n",
    "    metric_value = evaluator.evaluate(data)\n",
    "    return metric_value"
   ]
  },
  {
   "cell_type": "code",
   "execution_count": 54,
   "metadata": {},
   "outputs": [
    {
     "name": "stdout",
     "output_type": "stream",
     "text": [
      "RMSE on test data: 0.46\n",
      "R^2 on test data: 0.03\n"
     ]
    }
   ],
   "source": [
    "test_rmse = evaluate_model(test_df_predictions, \"rmse\")\n",
    "test_r2 = evaluate_model(test_df_predictions, \"r2\")\n",
    "\n",
    "print(f\"RMSE on test data: {test_rmse:.2f}\")\n",
    "print(f\"R^2 on test data: {test_r2:.2f}\")"
   ]
  },
  {
   "cell_type": "code",
   "execution_count": 55,
   "metadata": {},
   "outputs": [],
   "source": [
    "from pyspark.ml.evaluation import BinaryClassificationEvaluator, MulticlassClassificationEvaluator\n",
    "\n",
    "def evaluate_classification_model(data: DataFrame, metric_name: str) -> float:\n",
    "    \"\"\"\n",
    "    Оценивает модель классификации с использованием указанной метрики.\n",
    "\n",
    "    Args:\n",
    "        data (DataFrame): DataFrame, содержащий предсказания и фактические метки.\n",
    "        metric_name (str): Название метрики для оценки (например, \"accuracy\", \"f1\", \"roc\").\n",
    "\n",
    "    Returns:\n",
    "        float: Значение указанной метрики.\n",
    "    \"\"\"\n",
    "    if metric_name == \"roc\":\n",
    "        evaluator = BinaryClassificationEvaluator(labelCol=\"Result\", \n",
    "                                                  rawPredictionCol=\"probability\", \n",
    "                                                  metricName=\"areaUnderROC\")\n",
    "    elif metric_name in [\"accuracy\", \"f1\"]:\n",
    "        evaluator = MulticlassClassificationEvaluator(labelCol=\"Result\", \n",
    "                                                       predictionCol=\"prediction\", \n",
    "                                                       metricName=metric_name)\n",
    "    else:\n",
    "        raise ValueError(f\"Unsupported metric for classification: {metric_name}\")\n",
    "\n",
    "    metric_value = evaluator.evaluate(data)\n",
    "    return metric_value\n"
   ]
  },
  {
   "cell_type": "code",
   "execution_count": 56,
   "metadata": {},
   "outputs": [
    {
     "name": "stderr",
     "output_type": "stream",
     "text": [
      "                                                                                \r"
     ]
    },
    {
     "name": "stdout",
     "output_type": "stream",
     "text": [
      "AUC on test data: 0.84\n",
      "Accuracy on test data: 0.78\n"
     ]
    }
   ],
   "source": [
    "# Оценим модель на тестовых данных\n",
    "test_auc = evaluate_classification_model(test_df_predictions, \"roc\")\n",
    "test_accuracy = evaluate_classification_model(test_df_predictions, \"accuracy\")\n",
    "\n",
    "print(f\"AUC on test data: {test_auc:.2f}\")\n",
    "print(f\"Accuracy on test data: {test_accuracy:.2f}\")\n"
   ]
  },
  {
   "cell_type": "markdown",
   "metadata": {},
   "source": [
    "Визуализация результатов обученяи модели"
   ]
  },
  {
   "cell_type": "code",
   "execution_count": 58,
   "metadata": {},
   "outputs": [
    {
     "data": {
      "image/png": "[encoded data removed]",
      "text/plain": [
       "<Figure size 800x600 with 1 Axes>"
      ]
     },
     "metadata": {},
     "output_type": "display_data"
    }
   ],
   "source": [
    "from sklearn.metrics import confusion_matrix\n",
    "\n",
    "def plot_confusion_matrix(data: DataFrame) -> None:\n",
    "    \"\"\"\n",
    "    Строит матрицу путаницы для оценивания модели.\n",
    "    \n",
    "    Показывает насколько точно данные предсказания попали или не попали\n",
    "\n",
    "    Args:\n",
    "        data (DataFrame): DataFrame, содержащий предсказания и фактические метки.\n",
    "    \"\"\"\n",
    "    # Получаем фактические и предсказанные метки\n",
    "    y_true = data.select('Result').toPandas().values.ravel()\n",
    "    y_pred = data.select('prediction').toPandas().values.ravel()\n",
    "\n",
    "    # Создаем матрицу путаницы\n",
    "    cm = confusion_matrix(y_true, y_pred)\n",
    "\n",
    "    plt.figure(figsize=(8, 6))\n",
    "    sns.heatmap(cm, annot=True, fmt='d', cmap='Blues', cbar=False,\n",
    "                xticklabels=['Predicted Negative', 'Predicted Positive'],\n",
    "                yticklabels=['Actual Negative', 'Actual Positive'])\n",
    "    plt.xlabel('Predicted labels')\n",
    "    plt.ylabel('True labels')\n",
    "    plt.title('Confusion Matrix - матрица путаницы')\n",
    "    plt.show()\n",
    "\n",
    "# Вызов функции для построения матрицы путаницы\n",
    "plot_confusion_matrix(test_df_predictions)\n"
   ]
  },
  {
   "cell_type": "code",
   "execution_count": 61,
   "metadata": {},
   "outputs": [
    {
     "data": {
      "image/png": "[encoded data removed]",
      "text/plain": [
       "<Figure size 1000x600 with 1 Axes>"
      ]
     },
     "metadata": {},
     "output_type": "display_data"
    }
   ],
   "source": [
    "def plot_probability_histogram(data: DataFrame) -> None:\n",
    "    \"\"\"\n",
    "    Построить гистограмму предсказанных вероятностей для положительного класса.\n",
    "\n",
    "    - Если большинство предсказанных вероятностей положительного класса находятся близко к 1, это может означать,\n",
    "      что модель уверена в своих положительных предсказаниях.\n",
    "    - Если предсказанные вероятности распределены близко к 0.5, это может означать,\n",
    "      что модель сталкивается с трудностями в классификации или не имеет четких границ между классами.\n",
    "    \n",
    "    Args:\n",
    "        data (DataFrame): DataFrame, содержащий предсказанные вероятности.\n",
    "    \"\"\"\n",
    "    probabilities = data.select('probability').toPandas()\n",
    "\n",
    "    # Извлекаем вероятности положительного класса\n",
    "    positive_class_probs = probabilities['probability'].apply(lambda x: x[1])\n",
    "    \n",
    "    plt.figure(figsize=(10, 6))\n",
    "    sns.histplot(positive_class_probs, bins=30, kde=True)\n",
    "    plt.xlabel('Predicted Probability of Positive Class')\n",
    "    plt.ylabel('Frequency')\n",
    "    plt.title('Histogram of Predicted Probabilities')\n",
    "    plt.grid()\n",
    "    plt.show()\n",
    "\n",
    "# Вызов функции для построения гистограммы предсказанных вероятностей\n",
    "plot_probability_histogram(test_df_predictions)\n"
   ]
  },
  {
   "cell_type": "markdown",
   "metadata": {},
   "source": [
    "### Сохранение модели"
   ]
  },
  {
   "cell_type": "code",
   "execution_count": 44,
   "metadata": {},
   "outputs": [],
   "source": [
    "student_hdfs_folder = \"samorokov_nickolay\""
   ]
  },
  {
   "cell_type": "code",
   "execution_count": 45,
   "metadata": {},
   "outputs": [
    {
     "name": "stderr",
     "output_type": "stream",
     "text": [
      "[Stage 3993:>                                                       (0 + 1) / 1]\r"
     ]
    },
    {
     "name": "stdout",
     "output_type": "stream",
     "text": [
      "Модель успешно сохранена в \"hdfs:///user/user0/samorokov_nickolay/models/log-reg-model\"\n"
     ]
    },
    {
     "name": "stderr",
     "output_type": "stream",
     "text": [
      "                                                                                \r"
     ]
    }
   ],
   "source": [
    "# Получаем имя пользователя\n",
    "user_name = os.getenv(\"USER\")\n",
    "\n",
    "# Путь модели в HDFS\n",
    "model_hdfs_path = f\"hdfs:///user/{user_name}/{student_hdfs_folder}/models/log-reg-model\"\n",
    "\n",
    "# Сохраняем модель конвейера в HDFS\n",
    "try:\n",
    "    cv_model.bestModel.save(model_hdfs_path)\n",
    "    print(f\"Модель успешно сохранена в \\\"{model_hdfs_path}\\\"\")\n",
    "except Exception as e:\n",
    "    print(f\"Ошибка при сохранении модели: {e}\")"
   ]
  }
 ],
 "metadata": {
  "kernelspec": {
   "display_name": "Python 3",
   "language": "python",
   "name": "python3"
  },
  "language_info": {
   "codemirror_mode": {
    "name": "ipython",
    "version": 3
   },
   "file_extension": ".py",
   "mimetype": "text/x-python",
   "name": "python",
   "nbconvert_exporter": "python",
   "pygments_lexer": "ipython3",
   "version": "3.11.9"
  }
 },
 "nbformat": 4,
 "nbformat_minor": 2
}
